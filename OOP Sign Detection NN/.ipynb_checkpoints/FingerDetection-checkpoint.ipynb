{
 "cells": [
  {
   "cell_type": "code",
   "execution_count": 2,
   "metadata": {},
   "outputs": [],
   "source": [
    "#import all packages\n",
    "import h5py\n",
    "import math\n",
    "import numpy as np\n",
    "import pandas as pd\n",
    "import tensorflow as tf\n",
    "import tf_utils\n",
    "from tf_utils import load_dataset, random_mini_batches, convert_to_one_hot, predict\n",
    "from tensorflow.python.framework import ops\n",
    "from ParameterExportation import ParameterExportation\n",
    "import ParameterExportation\n",
    "import matplotlib.pyplot as plt"
   ]
  },
  {
   "cell_type": "markdown",
   "metadata": {},
   "source": [
    "# 2- Building a Neural Network with tensorflow\n",
    "    \n",
    "        "
   ]
  },
  {
   "cell_type": "markdown",
   "metadata": {},
   "source": [
    "In this part of the assignment you will build a neural network using tensorflow.Remember that there are two parts to implement a tensorflow model:\n",
    "\n",
    "   - Create the computation graph\n",
    "   - Run the graph\n",
    "    \n",
    "Let's dive into the problem you'd like to solve!\n"
   ]
  },
  {
   "cell_type": "markdown",
   "metadata": {},
   "source": [
    "### 2.0 - Problem statement: SIGNS Dataset"
   ]
  },
  {
   "cell_type": "markdown",
   "metadata": {},
   "source": [
    "One afternoon, with some friends we decided to teach our computers to decipher sign language. We spent a few hours taking pictures in front of a white wall and came up with the following dataset. It's now your job to build an algorithm that would facilitate communications from a speech-impaired person to someone who doesn't understand sign language.\n",
    "\n",
    "   - <b>Training set</b>: 1080 pictures (64 by 64 pixels) of signs representing numbers from 0 to 5 (180 pictures per number).\n",
    "   - <b>Test set</b>: 120 pictures (64 by 64 pixels) of signs representing numbers from 0 to 5 (20 pictures per number).\n",
    "Note that this is a subset of the SIGNS dataset. The complete dataset contains many more signs.\n",
    "\n",
    "Here are examples for each number, and how an explanation of how we represent the labels. These are the original pictures, before we lowered the image resolutoion to 64 by 64 pixels."
   ]
  },
  {
   "cell_type": "markdown",
   "metadata": {},
   "source": [
    "<img src=\"images/hands.png\"/>"
   ]
  },
  {
   "cell_type": "code",
   "execution_count": 3,
   "metadata": {
    "scrolled": true
   },
   "outputs": [],
   "source": [
    "# Loading the dataset\n",
    "X_train_orig, Y_train_orig, X_test_orig, Y_test_orig, classes = load_dataset()"
   ]
  },
  {
   "cell_type": "code",
   "execution_count": 4,
   "metadata": {},
   "outputs": [
    {
     "name": "stdout",
     "output_type": "stream",
     "text": [
      "y=5\n"
     ]
    },
    {
     "data": {
      "image/png": "[encoded data removed]",
      "text/plain": [
       "<Figure size 432x288 with 1 Axes>"
      ]
     },
     "metadata": {},
     "output_type": "display_data"
    }
   ],
   "source": [
    "index=0\n",
    "plt.imshow(X_train_orig[index])\n",
    "print(\"y=\" + str(np.squeeze(Y_train_orig[:,index])))"
   ]
  },
  {
   "cell_type": "markdown",
   "metadata": {},
   "source": [
    "### Function for OneHot:\n",
    "\n",
    "   <b>def convert_to_one_hot(Y, C):</b><br>\n",
    "    &emsp;Y = np.eye(C)[Y.reshape(-1)].T<br>\n",
    "    &emsp;return Y\n"
   ]
  },
  {
   "cell_type": "code",
   "execution_count": 5,
   "metadata": {},
   "outputs": [
    {
     "name": "stdout",
     "output_type": "stream",
     "text": [
      "number of training examples = 1080\n",
      "number of test examples = 120\n",
      "X_train shape: (12288, 1080)\n",
      "Y_train shape: (6, 1080)\n",
      "X_test shape: (12288, 120)\n",
      "Y_test shape: (6, 120)\n"
     ]
    }
   ],
   "source": [
    "# Flatten the training and test images\n",
    "X_train_flatten = X_train_orig.reshape(X_train_orig.shape[0], -1 ).T\n",
    "X_test_flatten =  X_test_orig.reshape(X_test_orig.shape[0], -1).T\n",
    "#Normalize Data\n",
    "X_train=X_train_flatten/255\n",
    "X_test=X_test_flatten/255\n",
    "#Convert to one hot encoding, Function= convert_to_one_hot\n",
    "Y_train=convert_to_one_hot(Y_train_orig,6) #First parameter-the Data and second the Number of classes(Y,C)\n",
    "Y_test=convert_to_one_hot(Y_test_orig,6) #First parameter-the Data and second the Number of classes(Y,C)\n",
    "\n",
    "print (\"number of training examples = \" + str(X_train.shape[1]))\n",
    "print (\"number of test examples = \" + str(X_test.shape[1]))\n",
    "print (\"X_train shape: \" + str(X_train.shape))\n",
    "print (\"Y_train shape: \" + str(Y_train.shape))\n",
    "print (\"X_test shape: \" + str(X_test.shape))\n",
    "print (\"Y_test shape: \" + str(Y_test.shape))\n"
   ]
  },
  {
   "cell_type": "markdown",
   "metadata": {},
   "source": [
    "<b>X_train.shape</b> = Shape of X_train - (12280 , 1080)<br>\n",
    "<b>X_test shape:</b> = Shape of X_train - (12288, 120)<br>\n",
    "<br>\n",
    "<b>X_train.shape [1]</b> = Number of training examples - 1080<br>\n",
    "<b>X_test.shape  [1] </b>= Nmber of testing examples - 120<br>\n",
    "<br>\n",
    "<b>Y_train shape</b> = Shape of Y_train - (6, 1080)<br>\n",
    "<b>Y_test shape</b> = Shape of Y_test - (6, 120)"
   ]
  },
  {
   "cell_type": "markdown",
   "metadata": {},
   "source": [
    "\n",
    "<b>Note</b> that 12288 comes from $64 \\times 64 \\times 3$. Each image is square, 64 by 64 pixels, and 3 is for the RGB colors. Please make sure all these shapes make sense to you before continuing.</br>\n",
    "\n",
    "<b>Your goal</b> is to build an algorithm capable of recognizing a sign with high accuracy. To do so, you are going to build a tensorflow model that is almost the same as one you have previously built in numpy for cat recognition (but now using a softmax output). It is a great occasion to compare your numpy implementation to the tensorflow one.</br>\n",
    "\n",
    "<b>The model</b> is LINEAR -> RELU -> LINEAR -> RELU -> LINEAR -> SOFTMAX. The SIGMOID output layer has been converted to a SOFTMAX. A SOFTMAX layer generalizes SIGMOID to when there are more than two classes."
   ]
  },
  {
   "cell_type": "markdown",
   "metadata": {},
   "source": [
    "## 2.1 - Create placeholders\n",
    "Your first task is to create placeholders for X and Y. This will allow you to later pass your training data in when you run your session.\n",
    "\n",
    "<b>Exercise:</b> Implement the function below to create the placeholders in tensorflow."
   ]
  },
  {
   "cell_type": "code",
   "execution_count": 6,
   "metadata": {},
   "outputs": [],
   "source": [
    "def create_placeholders(n_x,n_y):\n",
    "    \"\"\"\n",
    "    Create placeholders for the tensorflow session:\n",
    "        Arguments:\n",
    "        n_x -- scalar, size of an image vector (num_px * num_px = 64 * 64 * 3 = 12288)\n",
    "        n_y -- scalar, number of classes (from 0 to 5, so -> 6)\n",
    "\n",
    "        Returns:\n",
    "        X -- placeholder for the data input, of shape [n_x, None] and dtype \"float\"\n",
    "        Y -- placeholder for the input labels, of shape [n_y, None] and dtype \"float\"\n",
    "\n",
    "        Tips:\n",
    "        - You will use None because it let's us be flexible on the number of examples you will for the placeholders.\n",
    "          In fact, the number of examples during test/train is different.\n",
    "        \"\"\"\n",
    "    X= tf.placeholder(tf.float32,shape=[n_x,None] ,name='X')\n",
    "    Y= tf.placeholder(tf.float32,shape=[n_y,None] ,name='Y')\n",
    "    \n",
    "    return X, Y"
   ]
  },
  {
   "cell_type": "code",
   "execution_count": 7,
   "metadata": {},
   "outputs": [
    {
     "name": "stdout",
     "output_type": "stream",
     "text": [
      "X =Tensor(\"X:0\", shape=(12288, ?), dtype=float32)\n",
      "Y =Tensor(\"Y:0\", shape=(6, ?), dtype=float32)\n"
     ]
    }
   ],
   "source": [
    "X ,Y = create_placeholders(12288,6)\n",
    "print(\"X =\" + str(X))\n",
    "print(\"Y =\" + str(Y))"
   ]
  },
  {
   "cell_type": "markdown",
   "metadata": {},
   "source": [
    "### 2.2 - Initializing the parameters\n",
    "Your second task is to initialize the parameters in tensorflow.\n",
    "\n",
    "***Exercise:*** Implement the function below to initialize the parameters in tensorflow. You are going use Xavier Initialization for weights and Zero Initialization for biases. The shapes are given below. As an example, to help you, for W1 and b1 you could use:\n",
    "```python\n",
    "W1 = tf.get_variable(\"W1\", [25,12288], initializer = tf.contrib.layers.xavier_initializer(seed = 1))\n",
    "b1 = tf.get_variable(\"b1\", [25,1], initializer = tf.zeros_initializer())\n",
    "```\n",
    "\n",
    "Please use seed = 1 to make sure your results match ours."
   ]
  },
  {
   "cell_type": "code",
   "execution_count": 1,
   "metadata": {},
   "outputs": [
    {
     "ename": "SyntaxError",
     "evalue": "invalid syntax (<ipython-input-1-a1009e5d621a>, line 3)",
     "output_type": "error",
     "traceback": [
      "\u001b[1;36m  File \u001b[1;32m\"<ipython-input-1-a1009e5d621a>\"\u001b[1;36m, line \u001b[1;32m3\u001b[0m\n\u001b[1;33m    def initialize_parameters(6):\u001b[0m\n\u001b[1;37m                              ^\u001b[0m\n\u001b[1;31mSyntaxError\u001b[0m\u001b[1;31m:\u001b[0m invalid syntax\n"
     ]
    }
   ],
   "source": [
    "# GRADED FUNCTION: initialize_parameters\n",
    "\n",
    "def initialize_parameters(6):\n",
    "    \"\"\"\n",
    "    Initializes parameters to build a neural network with tensorflow. The shapes are:\n",
    "                        W1 : [25, 12288]\n",
    "                        b1 : [25, 1]\n",
    "                        W2 : [12, 25]\n",
    "                        b2 : [12, 1]\n",
    "                        W3 : [6, 12]\n",
    "                        b3 : [6, 1]\n",
    "    \n",
    "    Returns:\n",
    "    parameters -- a dictionary of tensors containing W1, b1, W2, b2, W3, b3\n",
    "    \"\"\"\n",
    "    \n",
    "    tf.set_random_seed(1)                   # so that your \"random\" numbers match ours\n",
    "        \n",
    "    ### START CODE HERE ### (approx. 6 lines of code)\n",
    "    W1 = tf.get_variable(\"W1\", [25, 12288], initializer=tf.contrib.layers.xavier_initializer(seed=1))\n",
    "    b1 = tf.get_variable(\"b1\", [25, 1], initializer=tf.zeros_initializer())\n",
    "    W2 = tf.get_variable(\"W2\", [12, 25], initializer=tf.contrib.layers.xavier_initializer(seed=1))\n",
    "    b2 = tf.get_variable(\"b2\", [12, 1], initializer=tf.zeros_initializer())\n",
    "    W3 = tf.get_variable(\"W3\", [6, 12], initializer=tf.contrib.layers.xavier_initializer(seed=1))\n",
    "    b3 = tf.get_variable(\"b3\", [6, 1], initializer=tf.zeros_initializer())\n",
    "    ### END CODE HERE ###\n",
    "\n",
    "    parameters = {\"W1\": W1,\n",
    "                  \"b1\": b1,\n",
    "                  \"W2\": W2,\n",
    "                  \"b2\": b2,\n",
    "                  \"W3\": W3,\n",
    "                  \"b3\": b3}\n",
    "    \n",
    "    return parameters"
   ]
  },
  {
   "cell_type": "code",
   "execution_count": 9,
   "metadata": {},
   "outputs": [
    {
     "name": "stdout",
     "output_type": "stream",
     "text": [
      "W1 = <tf.Variable 'W1:0' shape=(25, 12288) dtype=float32_ref>\n",
      "b1 = <tf.Variable 'b1:0' shape=(25, 1) dtype=float32_ref>\n",
      "W2 = <tf.Variable 'W2:0' shape=(12, 25) dtype=float32_ref>\n",
      "b2 = <tf.Variable 'b2:0' shape=(12, 1) dtype=float32_ref>\n"
     ]
    }
   ],
   "source": [
    "\n",
    "tf.reset_default_graph()\n",
    "with tf.Session() as sess:\n",
    "    parameters = initialize_parameters()\n",
    "    print(\"W1 = \" + str(parameters[\"W1\"]))\n",
    "    print(\"b1 = \" + str(parameters[\"b1\"]))\n",
    "    print(\"W2 = \" + str(parameters[\"W2\"]))\n",
    "    print(\"b2 = \" + str(parameters[\"b2\"])) "
   ]
  },
  {
   "cell_type": "markdown",
   "metadata": {},
   "source": [
    "### 2.3 - Forward propagation in tensorflow\n",
    "You will now implement the forward propagation module in tensorflow. The function will take in a dictionary of parameters and it will complete the forward pass. The functions you will be using are:\n",
    "\n",
    "    tf.add(...,...) to do an addition\n",
    "    tf.matmul(...,...) to do a matrix multiplication\n",
    "    tf.nn.relu(...) to apply the ReLU activation\n",
    "</br>\n",
    "**Question:** Implement the forward pass of the neural network. We commented for you the numpy equivalents so that you can compare the tensorflow implementation to numpy. It is important to note that the forward propagation stops at *z3*. The reason is that in tensorflow the last linear layer output is given as input to the function computing the loss. Therefore, you don't need *a3*!"
   ]
  },
  {
   "cell_type": "code",
   "execution_count": 10,
   "metadata": {},
   "outputs": [],
   "source": [
    "def forward_propagation(X,parameters):\n",
    "        \"\"\"\n",
    "    Implements the forward propagation for the model: LINEAR -> RELU -> LINEAR -> RELU -> LINEAR -> SOFTMAX\n",
    "    \n",
    "    Arguments:\n",
    "    X -- input dataset placeholder, of shape (input size, number of examples)\n",
    "    parameters -- python dictionary containing your parameters \"W1\", \"b1\", \"W2\", \"b2\", \"W3\", \"b3\"\n",
    "                  the shapes are given in initialize_parameters\n",
    "\n",
    "    Returns:\n",
    "    Z3 -- the output of the last LINEAR unit\n",
    "    \"\"\"\n",
    "    #Retrieve parameters\n",
    "        W1=parameters[\"W1\"]\n",
    "        b1=parameters[\"b1\"]\n",
    "        W2=parameters[\"W2\"]\n",
    "        b2=parameters[\"b2\"]\n",
    "        W3=parameters[\"W3\"]\n",
    "        b3=parameters[\"b3\"]\n",
    "    #Forward Prop\n",
    "        #Layer 1\n",
    "        Z1=tf.add(tf.matmul(W1, X), b1)   # Z1 = np.dot(W1, X) + b1\n",
    "        A1=tf.nn.relu(Z1)                 # A1=relu(Z1)\n",
    "        #Layer 2\n",
    "        Z2=tf.add(tf.matmul(W2,A1),b2)    # Z2 = np.dot(W2, A1) + b2\n",
    "        A2=tf.nn.relu(Z2)                 # A2=relu(Z2)\n",
    "        #Layer 3\n",
    "        Z3=tf.add(tf.matmul(W3,A2),b3)  # Z1 = np.dot(W1, A2) + b\n",
    "        return Z3"
   ]
  },
  {
   "cell_type": "code",
   "execution_count": 11,
   "metadata": {},
   "outputs": [
    {
     "name": "stdout",
     "output_type": "stream",
     "text": [
      "Z3 = Tensor(\"Add_2:0\", shape=(6, ?), dtype=float32)\n"
     ]
    }
   ],
   "source": [
    "tf.reset_default_graph()\n",
    "with tf.Session() as sess:\n",
    "    X, Y = create_placeholders(12288, 6)\n",
    "    parameters = initialize_parameters()\n",
    "    Z3 = forward_propagation(X, parameters)\n",
    "    print(\"Z3 = \" + str(Z3))"
   ]
  },
  {
   "cell_type": "code",
   "execution_count": null,
   "metadata": {},
   "outputs": [],
   "source": []
  },
  {
   "cell_type": "markdown",
   "metadata": {},
   "source": [
    "### 2.4 Compute cost\n",
    "###### As seen before, it is very easy to compute the cost using:\n",
    "\n",
    "    tf.reduce_mean(tf.nn.softmax_cross_entropy_with_logits(logits = ..., labels = ...))\n",
    "**Question:** Implement the cost function below.\n",
    "\n",
    "It is important to know that the \"logits\" and \"labels\" inputs of ***tf.nn.softmax_cross_entropy_with_logits*** are expected to be of shape (number of examples, num_classes). We have thus transposed Z3 and Y for you.\n",
    "Besides, tf.reduce_mean basically does the summation over the examples."
   ]
  },
  {
   "cell_type": "code",
   "execution_count": 12,
   "metadata": {},
   "outputs": [],
   "source": [
    "def compute_cost(Z3,Y):\n",
    "    \"\"\"\n",
    "    Computes the cost\n",
    "    \n",
    "    Arguments:\n",
    "    Z3 -- output of forward propagation (output of the last LINEAR unit), of shape (6, number of examples)\n",
    "    Y -- \"true\" labels vector placeholder, same shape as Z3\n",
    "    \n",
    "    Returns:\n",
    "    cost - Tensor of the cost function\n",
    "    \"\"\"\n",
    "    logits=tf.transpose(Z3)\n",
    "    labels=tf.transpose(Y)\n",
    "    cost = tf.reduce_mean(tf.nn.softmax_cross_entropy_with_logits(\n",
    "                                                                  logits = logits,\n",
    "                                                                  labels =labels))\n",
    "                        \n",
    "    return cost"
   ]
  },
  {
   "cell_type": "code",
   "execution_count": 13,
   "metadata": {},
   "outputs": [
    {
     "name": "stdout",
     "output_type": "stream",
     "text": [
      "WARNING:tensorflow:From <ipython-input-12-26012935ef1e>:16: softmax_cross_entropy_with_logits (from tensorflow.python.ops.nn_ops) is deprecated and will be removed in a future version.\n",
      "Instructions for updating:\n",
      "\n",
      "Future major versions of TensorFlow will allow gradients to flow\n",
      "into the labels input on backprop by default.\n",
      "\n",
      "See @{tf.nn.softmax_cross_entropy_with_logits_v2}.\n",
      "\n"
     ]
    },
    {
     "ename": "ValueError",
     "evalue": "Tensor(\"transpose:0\", shape=(?, 6), dtype=float32) must be from the same graph as Tensor(\"transpose:0\", shape=(?, 6), dtype=float32).",
     "output_type": "error",
     "traceback": [
      "\u001b[1;31m---------------------------------------------------------------------------\u001b[0m",
      "\u001b[1;31mValueError\u001b[0m                                Traceback (most recent call last)",
      "\u001b[1;32m<ipython-input-13-aa15158cbf5e>\u001b[0m in \u001b[0;36m<module>\u001b[1;34m()\u001b[0m\n\u001b[0;32m      4\u001b[0m     \u001b[0mparameters\u001b[0m \u001b[1;33m=\u001b[0m \u001b[0minitialize_parameters\u001b[0m\u001b[1;33m(\u001b[0m\u001b[1;33m)\u001b[0m\u001b[1;33m\u001b[0m\u001b[0m\n\u001b[0;32m      5\u001b[0m     \u001b[0mforward_propagation\u001b[0m\u001b[1;33m(\u001b[0m\u001b[0mX\u001b[0m\u001b[1;33m,\u001b[0m \u001b[0mparameters\u001b[0m\u001b[1;33m)\u001b[0m\u001b[1;33m\u001b[0m\u001b[0m\n\u001b[1;32m----> 6\u001b[1;33m     \u001b[0mcost\u001b[0m\u001b[1;33m=\u001b[0m\u001b[0mcompute_cost\u001b[0m\u001b[1;33m(\u001b[0m\u001b[0mZ3\u001b[0m\u001b[1;33m,\u001b[0m\u001b[0mY\u001b[0m\u001b[1;33m)\u001b[0m\u001b[1;33m\u001b[0m\u001b[0m\n\u001b[0m\u001b[0;32m      7\u001b[0m     \u001b[0mprint\u001b[0m\u001b[1;33m(\u001b[0m\u001b[1;34m\"Cost:\"\u001b[0m\u001b[1;33m+\u001b[0m \u001b[0mstr\u001b[0m\u001b[1;33m(\u001b[0m\u001b[0mcost\u001b[0m\u001b[1;33m)\u001b[0m\u001b[1;33m)\u001b[0m\u001b[1;33m\u001b[0m\u001b[0m\n",
      "\u001b[1;32m<ipython-input-12-26012935ef1e>\u001b[0m in \u001b[0;36mcompute_cost\u001b[1;34m(Z3, Y)\u001b[0m\n\u001b[0;32m     14\u001b[0m     cost = tf.reduce_mean(tf.nn.softmax_cross_entropy_with_logits(\n\u001b[0;32m     15\u001b[0m                                                                   \u001b[0mlogits\u001b[0m \u001b[1;33m=\u001b[0m \u001b[0mlogits\u001b[0m\u001b[1;33m,\u001b[0m\u001b[1;33m\u001b[0m\u001b[0m\n\u001b[1;32m---> 16\u001b[1;33m                                                                   labels =labels))\n\u001b[0m\u001b[0;32m     17\u001b[0m \u001b[1;33m\u001b[0m\u001b[0m\n\u001b[0;32m     18\u001b[0m     \u001b[1;32mreturn\u001b[0m \u001b[0mcost\u001b[0m\u001b[1;33m\u001b[0m\u001b[0m\n",
      "\u001b[1;32m~\\Documents\\Anaconda3\\lib\\site-packages\\tensorflow\\python\\util\\deprecation.py\u001b[0m in \u001b[0;36mnew_func\u001b[1;34m(*args, **kwargs)\u001b[0m\n\u001b[0;32m    248\u001b[0m               \u001b[1;34m'in a future version'\u001b[0m \u001b[1;32mif\u001b[0m \u001b[0mdate\u001b[0m \u001b[1;32mis\u001b[0m \u001b[1;32mNone\u001b[0m \u001b[1;32melse\u001b[0m \u001b[1;33m(\u001b[0m\u001b[1;34m'after %s'\u001b[0m \u001b[1;33m%\u001b[0m \u001b[0mdate\u001b[0m\u001b[1;33m)\u001b[0m\u001b[1;33m,\u001b[0m\u001b[1;33m\u001b[0m\u001b[0m\n\u001b[0;32m    249\u001b[0m               instructions)\n\u001b[1;32m--> 250\u001b[1;33m       \u001b[1;32mreturn\u001b[0m \u001b[0mfunc\u001b[0m\u001b[1;33m(\u001b[0m\u001b[1;33m*\u001b[0m\u001b[0margs\u001b[0m\u001b[1;33m,\u001b[0m \u001b[1;33m**\u001b[0m\u001b[0mkwargs\u001b[0m\u001b[1;33m)\u001b[0m\u001b[1;33m\u001b[0m\u001b[0m\n\u001b[0m\u001b[0;32m    251\u001b[0m     return tf_decorator.make_decorator(\n\u001b[0;32m    252\u001b[0m         \u001b[0mfunc\u001b[0m\u001b[1;33m,\u001b[0m \u001b[0mnew_func\u001b[0m\u001b[1;33m,\u001b[0m \u001b[1;34m'deprecated'\u001b[0m\u001b[1;33m,\u001b[0m\u001b[1;33m\u001b[0m\u001b[0m\n",
      "\u001b[1;32m~\\Documents\\Anaconda3\\lib\\site-packages\\tensorflow\\python\\ops\\nn_ops.py\u001b[0m in \u001b[0;36msoftmax_cross_entropy_with_logits\u001b[1;34m(_sentinel, labels, logits, dim, name)\u001b[0m\n\u001b[0;32m   1953\u001b[0m \u001b[1;33m\u001b[0m\u001b[0m\n\u001b[0;32m   1954\u001b[0m   with ops.name_scope(name, \"softmax_cross_entropy_with_logits_sg\",\n\u001b[1;32m-> 1955\u001b[1;33m                       [logits, labels]) as name:\n\u001b[0m\u001b[0;32m   1956\u001b[0m     \u001b[0mlabels\u001b[0m \u001b[1;33m=\u001b[0m \u001b[0marray_ops\u001b[0m\u001b[1;33m.\u001b[0m\u001b[0mstop_gradient\u001b[0m\u001b[1;33m(\u001b[0m\u001b[0mlabels\u001b[0m\u001b[1;33m,\u001b[0m \u001b[0mname\u001b[0m\u001b[1;33m=\u001b[0m\u001b[1;34m\"labels_stop_gradient\"\u001b[0m\u001b[1;33m)\u001b[0m\u001b[1;33m\u001b[0m\u001b[0m\n\u001b[0;32m   1957\u001b[0m \u001b[1;33m\u001b[0m\u001b[0m\n",
      "\u001b[1;32m~\\Documents\\Anaconda3\\lib\\site-packages\\tensorflow\\python\\framework\\ops.py\u001b[0m in \u001b[0;36m__enter__\u001b[1;34m(self)\u001b[0m\n\u001b[0;32m   5975\u001b[0m       \u001b[1;32mif\u001b[0m \u001b[0mself\u001b[0m\u001b[1;33m.\u001b[0m\u001b[0m_values\u001b[0m \u001b[1;32mis\u001b[0m \u001b[1;32mNone\u001b[0m\u001b[1;33m:\u001b[0m\u001b[1;33m\u001b[0m\u001b[0m\n\u001b[0;32m   5976\u001b[0m         \u001b[0mself\u001b[0m\u001b[1;33m.\u001b[0m\u001b[0m_values\u001b[0m \u001b[1;33m=\u001b[0m \u001b[1;33m[\u001b[0m\u001b[1;33m]\u001b[0m\u001b[1;33m\u001b[0m\u001b[0m\n\u001b[1;32m-> 5977\u001b[1;33m       \u001b[0mg\u001b[0m \u001b[1;33m=\u001b[0m \u001b[0m_get_graph_from_inputs\u001b[0m\u001b[1;33m(\u001b[0m\u001b[0mself\u001b[0m\u001b[1;33m.\u001b[0m\u001b[0m_values\u001b[0m\u001b[1;33m)\u001b[0m\u001b[1;33m\u001b[0m\u001b[0m\n\u001b[0m\u001b[0;32m   5978\u001b[0m       \u001b[0mself\u001b[0m\u001b[1;33m.\u001b[0m\u001b[0m_g_manager\u001b[0m \u001b[1;33m=\u001b[0m \u001b[0mg\u001b[0m\u001b[1;33m.\u001b[0m\u001b[0mas_default\u001b[0m\u001b[1;33m(\u001b[0m\u001b[1;33m)\u001b[0m\u001b[1;33m\u001b[0m\u001b[0m\n\u001b[0;32m   5979\u001b[0m       \u001b[0mself\u001b[0m\u001b[1;33m.\u001b[0m\u001b[0m_g_manager\u001b[0m\u001b[1;33m.\u001b[0m\u001b[0m__enter__\u001b[0m\u001b[1;33m(\u001b[0m\u001b[1;33m)\u001b[0m\u001b[1;33m\u001b[0m\u001b[0m\n",
      "\u001b[1;32m~\\Documents\\Anaconda3\\lib\\site-packages\\tensorflow\\python\\framework\\ops.py\u001b[0m in \u001b[0;36m_get_graph_from_inputs\u001b[1;34m(op_input_list, graph)\u001b[0m\n\u001b[0;32m   5635\u001b[0m         \u001b[0mgraph\u001b[0m \u001b[1;33m=\u001b[0m \u001b[0mgraph_element\u001b[0m\u001b[1;33m.\u001b[0m\u001b[0mgraph\u001b[0m\u001b[1;33m\u001b[0m\u001b[0m\n\u001b[0;32m   5636\u001b[0m       \u001b[1;32melif\u001b[0m \u001b[0moriginal_graph_element\u001b[0m \u001b[1;32mis\u001b[0m \u001b[1;32mnot\u001b[0m \u001b[1;32mNone\u001b[0m\u001b[1;33m:\u001b[0m\u001b[1;33m\u001b[0m\u001b[0m\n\u001b[1;32m-> 5637\u001b[1;33m         \u001b[0m_assert_same_graph\u001b[0m\u001b[1;33m(\u001b[0m\u001b[0moriginal_graph_element\u001b[0m\u001b[1;33m,\u001b[0m \u001b[0mgraph_element\u001b[0m\u001b[1;33m)\u001b[0m\u001b[1;33m\u001b[0m\u001b[0m\n\u001b[0m\u001b[0;32m   5638\u001b[0m       \u001b[1;32melif\u001b[0m \u001b[0mgraph_element\u001b[0m\u001b[1;33m.\u001b[0m\u001b[0mgraph\u001b[0m \u001b[1;32mis\u001b[0m \u001b[1;32mnot\u001b[0m \u001b[0mgraph\u001b[0m\u001b[1;33m:\u001b[0m\u001b[1;33m\u001b[0m\u001b[0m\n\u001b[0;32m   5639\u001b[0m         \u001b[1;32mraise\u001b[0m \u001b[0mValueError\u001b[0m\u001b[1;33m(\u001b[0m\u001b[1;34m\"%s is not from the passed-in graph.\"\u001b[0m \u001b[1;33m%\u001b[0m \u001b[0mgraph_element\u001b[0m\u001b[1;33m)\u001b[0m\u001b[1;33m\u001b[0m\u001b[0m\n",
      "\u001b[1;32m~\\Documents\\Anaconda3\\lib\\site-packages\\tensorflow\\python\\framework\\ops.py\u001b[0m in \u001b[0;36m_assert_same_graph\u001b[1;34m(original_item, item)\u001b[0m\n\u001b[0;32m   5571\u001b[0m   \u001b[1;32mif\u001b[0m \u001b[0moriginal_item\u001b[0m\u001b[1;33m.\u001b[0m\u001b[0mgraph\u001b[0m \u001b[1;32mis\u001b[0m \u001b[1;32mnot\u001b[0m \u001b[0mitem\u001b[0m\u001b[1;33m.\u001b[0m\u001b[0mgraph\u001b[0m\u001b[1;33m:\u001b[0m\u001b[1;33m\u001b[0m\u001b[0m\n\u001b[0;32m   5572\u001b[0m     raise ValueError(\"%s must be from the same graph as %s.\" % (item,\n\u001b[1;32m-> 5573\u001b[1;33m                                                                 original_item))\n\u001b[0m\u001b[0;32m   5574\u001b[0m \u001b[1;33m\u001b[0m\u001b[0m\n\u001b[0;32m   5575\u001b[0m \u001b[1;33m\u001b[0m\u001b[0m\n",
      "\u001b[1;31mValueError\u001b[0m: Tensor(\"transpose:0\", shape=(?, 6), dtype=float32) must be from the same graph as Tensor(\"transpose:0\", shape=(?, 6), dtype=float32)."
     ]
    }
   ],
   "source": [
    "tf.reset_default_graph()\n",
    "with tf.Session() as sess:\n",
    "    X,Y = create_placeholders(12288,6)\n",
    "    parameters = initialize_parameters()\n",
    "    forward_propagation(X, parameters)\n",
    "    cost=compute_cost(Z3,Y)\n",
    "    print(\"Cost:\"+ str(cost))"
   ]
  },
  {
   "cell_type": "markdown",
   "metadata": {},
   "source": [
    "### 2.5 - Backward propagation & parameter updates¶\n",
    "**This is where you become grateful to programming frameworks.** All the backpropagation and the parameters update is taken care of in 1 line of code. It is very easy to incorporate this line in the model.</br>\n",
    "\n",
    "After you compute the cost function. You will create an \"optimizer\" object. You have to call this object along with the cost when running the tf.session. When called, it will perform an optimization on the given cost with the chosen method and learning rate.\n",
    "\n",
    "For instance, for gradient descent the optimizer would be:\n",
    "\n",
    "    optimizer = tf.train.GradientDescentOptimizer(learning_rate = learning_rate).minimize(cost)\n",
    "    \n",
    "To make the optimization you would do:\n",
    "```\n",
    "c = sess.run([optimizer, cost], feed_dict={X: minibatch_X, Y: minibatch_Y})\n",
    "```\n",
    "This computes the backpropagation by passing through the tensorflow graph in the reverse order. From cost to inputs.\n",
    "\n",
    "***Note When coding, we often use _ as a \"throwaway\" variable to store values that we won't need to use later. Here, _ takes on the evaluated value of optimizer, which we don't need (and c takes the value of the cost variable***"
   ]
  },
  {
   "cell_type": "markdown",
   "metadata": {},
   "source": [
    "### 2.6 - Building the model¶\n",
    "**Now, you will bring it all together!**\n",
    "\n",
    "**Exercise:** Implement the model. You will be calling the functions you had previously implemented."
   ]
  },
  {
   "cell_type": "code",
   "execution_count": 14,
   "metadata": {},
   "outputs": [],
   "source": [
    "def model(X_train, Y_train, X_test, Y_test, learning_rate = 0.0001,\n",
    "          num_epochs = 1500, minibatch_size = 32, print_cost = True):\n",
    "    \"\"\"\n",
    "    Implements a three-layer tensorflow neural network: LINEAR->RELU->LINEAR->RELU->LINEAR->SOFTMAX.\n",
    "    \n",
    "    Arguments:\n",
    "    X_train -- training set, of shape (input size = 12288, number of training examples = 1080)\n",
    "    Y_train -- test set, of shape (output size = 6, number of training examples = 1080)\n",
    "    X_test -- training set, of shape (input size = 12288, number of training examples = 120)\n",
    "    Y_test -- test set, of shape (output size = 6, number of test examples = 120)\n",
    "    learning_rate -- learning rate of the optimization\n",
    "    num_epochs -- number of epochs of the optimization loop\n",
    "    minibatch_size -- size of a minibatch\n",
    "    print_cost -- True to print the cost every 100 epochs\n",
    "    \n",
    "    Returns:\n",
    "    parameters -- parameters learnt by the model. They can then be used to predict.\n",
    "    \"\"\"\n",
    "    \n",
    "    ops.reset_default_graph()                         # to be able to rerun the model without overwriting tf variables\n",
    "    tf.set_random_seed(1)                             # to keep consistent results\n",
    "    seed = 3                                          # to keep consistent results\n",
    "    (n_x, m) = X_train.shape                          # (n_x: input size, m : number of examples in the train set)\n",
    "    n_y = Y_train.shape[0]                            # n_y : output size\n",
    "    costs = []                                        # To keep track of the cost\n",
    "    \n",
    "    # Create Placeholders of shape (n_x, n_y)\n",
    "    ### START CODE HERE ### (1 line)\n",
    "    X, Y = create_placeholders(n_x, n_y)\n",
    "    ### END CODE HERE ###\n",
    "\n",
    "    # Initialize parameters\n",
    "    ### START CODE HERE ### (1 line)\n",
    "    parameters = initialize_parameters()\n",
    "    ### END CODE HERE ###\n",
    "    \n",
    "    # Forward propagation: Build the forward propagation in the tensorflow graph\n",
    "    ### START CODE HERE ### (1 line)\n",
    "    Z3 = forward_propagation(X, parameters)\n",
    "    ### END CODE HERE ###\n",
    "    \n",
    "    # Cost function: Add cost function to tensorflow graph\n",
    "    ### START CODE HERE ### (1 line)\n",
    "    cost = compute_cost(Z3, Y)\n",
    "    ### END CODE HERE ###\n",
    "    \n",
    "    # Backpropagation: Define the tensorflow optimizer. Use an AdamOptimizer.\n",
    "    ### START CODE HERE ### (1 line)\n",
    "    optimizer = tf.train.AdamOptimizer(learning_rate=learning_rate).minimize(cost)\n",
    "    ### END CODE HERE ###\n",
    "    \n",
    "    # Initialize all the variables\n",
    "    init = tf.global_variables_initializer()\n",
    "\n",
    "    # Start the session to compute the tensorflow graph\n",
    "    with tf.Session() as sess:\n",
    "        \n",
    "        # Run the initialization\n",
    "        sess.run(init)\n",
    "        \n",
    "        # Do the training loop\n",
    "        for epoch in range(num_epochs):\n",
    "\n",
    "            epoch_cost = 0.                       # Defines a cost related to an epoch\n",
    "            num_minibatches = int(m / minibatch_size) # number of minibatches of size minibatch_size in the train set\n",
    "            seed = seed + 1\n",
    "            minibatches = random_mini_batches(X_train, Y_train, minibatch_size, seed)\n",
    "\n",
    "            for minibatch in minibatches:\n",
    "\n",
    "                # Select a minibatch\n",
    "                (minibatch_X, minibatch_Y) = minibatch\n",
    "                \n",
    "                # IMPORTANT: The line that runs the graph on a minibatch.\n",
    "                # Run the session to execute the \"optimizer\" and the \"cost\", the feedict should contain a minibatch for (X,Y).\n",
    "                ### START CODE HERE ### (1 line)\n",
    "                _ , minibatch_cost = sess.run([optimizer, cost], \n",
    "                                             feed_dict={X: minibatch_X, \n",
    "                                                        Y: minibatch_Y})\n",
    "                ### END CODE HERE ###\n",
    "                \n",
    "                epoch_cost += minibatch_cost / num_minibatches\n",
    "\n",
    "            # Print the cost every epoch\n",
    "            if print_cost == True and epoch % 100 == 0:\n",
    "                print (\"Cost after epoch %i: %f\" % (epoch, epoch_cost))\n",
    "            if print_cost == True and epoch % 5 == 0:\n",
    "                costs.append(epoch_cost)\n",
    "                \n",
    "        # plot the cost\n",
    "        plt.plot(np.squeeze(costs))\n",
    "        plt.ylabel('cost')\n",
    "        plt.xlabel('iterations (per tens)')\n",
    "        plt.title(\"Learning rate =\" + str(learning_rate))\n",
    "        plt.show()\n",
    "\n",
    "        # lets save the parameters in a variable\n",
    "        parameters = sess.run(parameters)\n",
    "        print (\"Parameters have been trained!\")\n",
    "\n",
    "        # Calculate the correct predictions\n",
    "        correct_prediction = tf.equal(tf.argmax(Z3), tf.argmax(Y))\n",
    "\n",
    "        # Calculate accuracy on the test set\n",
    "        accuracy = tf.reduce_mean(tf.cast(correct_prediction, \"float\"))\n",
    "\n",
    "        print (\"Train Accuracy:\", accuracy.eval({X: X_train, Y: Y_train}))\n",
    "        print (\"Test Accuracy:\", accuracy.eval({X: X_test, Y: Y_test}))\n",
    "        \n",
    "        return parameters"
   ]
  },
  {
   "cell_type": "code",
   "execution_count": 15,
   "metadata": {},
   "outputs": [
    {
     "name": "stdout",
     "output_type": "stream",
     "text": [
      "Cost after epoch 0: 1.855702\n",
      "Cost after epoch 100: 1.016458\n",
      "Cost after epoch 200: 0.733102\n",
      "Cost after epoch 300: 0.572938\n",
      "Cost after epoch 400: 0.468799\n",
      "Cost after epoch 500: 0.380979\n",
      "Cost after epoch 600: 0.313819\n",
      "Cost after epoch 700: 0.254258\n",
      "Cost after epoch 800: 0.203795\n",
      "Cost after epoch 900: 0.166410\n",
      "Cost after epoch 1000: 0.141497\n",
      "Cost after epoch 1100: 0.107579\n",
      "Cost after epoch 1200: 0.086229\n",
      "Cost after epoch 1300: 0.059415\n",
      "Cost after epoch 1400: 0.052237\n"
     ]
    },
    {
     "data": {
      "image/png": "[encoded data removed]",
      "text/plain": [
       "<Figure size 432x288 with 1 Axes>"
      ]
     },
     "metadata": {},
     "output_type": "display_data"
    },
    {
     "name": "stdout",
     "output_type": "stream",
     "text": [
      "Parameters have been trained!\n",
      "Train Accuracy: 0.9990741\n",
      "Test Accuracy: 0.71666664\n"
     ]
    }
   ],
   "source": [
    "parameters=model(X_train,Y_train,X_test,Y_test)"
   ]
  },
  {
   "cell_type": "code",
   "execution_count": 16,
   "metadata": {},
   "outputs": [
    {
     "name": "stderr",
     "output_type": "stream",
     "text": [
      "C:\\Users\\aleja\\Documents\\Anaconda3\\lib\\site-packages\\ipykernel_launcher.py:11: DeprecationWarning: `imread` is deprecated!\n",
      "`imread` is deprecated in SciPy 1.0.0.\n",
      "Use ``matplotlib.pyplot.imread`` instead.\n",
      "  # This is added back by InteractiveShellApp.init_path()\n",
      "C:\\Users\\aleja\\Documents\\Anaconda3\\lib\\site-packages\\ipykernel_launcher.py:12: DeprecationWarning: `imresize` is deprecated!\n",
      "`imresize` is deprecated in SciPy 1.0.0, and will be removed in 1.2.0.\n",
      "Use ``skimage.transform.resize`` instead.\n",
      "  if sys.path[0] == '':\n"
     ]
    },
    {
     "name": "stdout",
     "output_type": "stream",
     "text": [
      "Your algorithm predicts: y = 2\n"
     ]
    },
    {
     "data": {
      "image/png": "[encoded data removed]",
      "text/plain": [
       "<Figure size 432x288 with 1 Axes>"
      ]
     },
     "metadata": {},
     "output_type": "display_data"
    }
   ],
   "source": [
    "import scipy\n",
    "from PIL import Image\n",
    "from scipy import ndimage\n",
    "\n",
    "## START CODE HERE ## (PUT YOUR IMAGE NAME) \n",
    "my_image = \"img1.jpg\"\n",
    "## END CODE HERE ##\n",
    "\n",
    "# We preprocess your image to fit your algorithm.\n",
    "fname = \"Images/\" + my_image\n",
    "image = np.array(ndimage.imread(fname, flatten=False))\n",
    "my_image = scipy.misc.imresize(image, size=(64,64)).reshape((1, 64*64*3)).T\n",
    "my_image_prediction = predict(my_image, parameters)\n",
    "\n",
    "plt.imshow(image)\n",
    "print(\"Your algorithm predicts: y = \" + str(np.squeeze(my_image_prediction)))"
   ]
  },
  {
   "cell_type": "code",
   "execution_count": 17,
   "metadata": {},
   "outputs": [
    {
     "name": "stdout",
     "output_type": "stream",
     "text": [
      "parameters= {'W1': array([[-0.02022286, -0.02184957, -0.01954888, ...,  0.01733965,\n",
      "         0.00708922,  0.01705988],\n",
      "       [ 0.0179748 ,  0.02152602,  0.00493785, ..., -0.10161665,\n",
      "         0.00539711,  0.10802788],\n",
      "       [ 0.00603335, -0.0141639 ,  0.00799852, ..., -0.01602918,\n",
      "        -0.01637063, -0.02169758],\n",
      "       ...,\n",
      "       [ 0.00657687,  0.01621635, -0.0187264 , ...,  0.00042768,\n",
      "         0.01020896,  0.00671687],\n",
      "       [-0.01919611, -0.00251234,  0.00372404, ..., -0.00157393,\n",
      "        -0.00190098, -0.00875724],\n",
      "       [-0.00408912,  0.00259801,  0.02102262, ..., -0.00317568,\n",
      "        -0.00170461,  0.00117499]], dtype=float32), 'b1': array([[-0.00060047],\n",
      "       [ 0.03452941],\n",
      "       [-0.0004682 ],\n",
      "       [-0.00071748],\n",
      "       [-0.00060052],\n",
      "       [-0.00043804],\n",
      "       [ 0.        ],\n",
      "       [-0.00055584],\n",
      "       [-0.00076829],\n",
      "       [ 0.        ],\n",
      "       [-0.01626391],\n",
      "       [-0.00060025],\n",
      "       [-0.00060054],\n",
      "       [ 0.        ],\n",
      "       [ 0.        ],\n",
      "       [ 0.        ],\n",
      "       [-0.011316  ],\n",
      "       [-0.00034312],\n",
      "       [-0.00078327],\n",
      "       [-0.0007705 ],\n",
      "       [-0.00031756],\n",
      "       [ 0.        ],\n",
      "       [-0.00063635],\n",
      "       [-0.00084802],\n",
      "       [-0.00084769]], dtype=float32), 'W2': array([[-3.57959092e-01, -3.87634128e-01, -3.45664382e-01,\n",
      "        -1.84101760e-01,  1.23366892e-01,  6.48994446e-02,\n",
      "         3.48516703e-01, -5.69326580e-02, -7.13934302e-02,\n",
      "        -4.57182527e-02, -1.75297573e-01, -8.08914900e-02,\n",
      "         3.59533668e-01,  1.98047459e-01,  6.84962571e-02,\n",
      "         3.39165568e-01,  1.52199388e-01, -8.11039507e-02,\n",
      "        -1.71923220e-01, -2.24464402e-01,  3.92048359e-01,\n",
      "        -1.97420314e-01,  7.28417337e-02,  3.00602555e-01,\n",
      "        -1.15339458e-01],\n",
      "       [-7.28208125e-02, -2.97724664e-01, -2.45527327e-02,\n",
      "        -1.98980659e-01, -2.51079619e-01,  1.90623879e-01,\n",
      "        -1.02522075e-02,  8.18967819e-05, -1.40916616e-01,\n",
      "        -7.82209635e-03,  1.10424459e-02, -2.40394607e-01,\n",
      "         2.32697606e-01,  1.23257279e-01, -4.46807742e-02,\n",
      "        -2.95995891e-01, -8.89059901e-02,  3.24058831e-01,\n",
      "        -9.20037329e-02, -1.47651583e-01, -2.69669950e-01,\n",
      "        -5.62207401e-02, -3.05262089e-01,  3.71012747e-01,\n",
      "        -2.97952950e-01],\n",
      "       [ 8.44520330e-03, -1.84722096e-01,  2.40916386e-02,\n",
      "        -3.96933436e-01,  1.93019986e-01, -1.66722566e-01,\n",
      "         1.40735269e-01,  1.28823936e-01,  1.60618186e-01,\n",
      "         1.48682475e-01, -2.17551857e-01,  1.41159832e-01,\n",
      "         3.59020591e-01, -2.59326071e-01,  3.44210863e-02,\n",
      "        -1.06288344e-01,  2.28286281e-01, -1.18110955e-01,\n",
      "        -3.77257407e-01, -1.54556721e-01, -3.15808177e-01,\n",
      "        -2.93690711e-01, -1.35836452e-01,  7.87964463e-02,\n",
      "        -3.60812843e-02],\n",
      "       [-1.68886691e-01, -7.17465058e-02,  3.75836968e-01,\n",
      "         2.41638139e-01, -1.26635656e-01,  3.84798348e-01,\n",
      "         3.86046350e-01, -3.04943562e-01,  5.80761433e-02,\n",
      "        -3.35033149e-01,  1.03494808e-01,  2.49273226e-01,\n",
      "         3.25344801e-01,  3.51445675e-01,  2.61718631e-01,\n",
      "         2.95075774e-01, -1.62998661e-01, -5.24113402e-02,\n",
      "         1.25195190e-01, -2.38582864e-01, -1.26900956e-01,\n",
      "         3.78452837e-02, -3.02857667e-01, -7.19239563e-03,\n",
      "         2.73179680e-01],\n",
      "       [-5.88356098e-03, -2.15486720e-01, -2.69965291e-01,\n",
      "         1.24739997e-01,  2.25438938e-01,  3.28951478e-01,\n",
      "        -1.58548504e-01,  3.81136298e-01,  1.03377163e-01,\n",
      "        -2.35495433e-01, -2.27050528e-01, -8.38692561e-02,\n",
      "         3.79310876e-01, -1.84618384e-01,  3.31580162e-01,\n",
      "         1.88360333e-01,  4.31654841e-01,  3.03216785e-01,\n",
      "         1.18270174e-01,  1.06787942e-01, -1.07655711e-01,\n",
      "        -4.48815227e-02,  1.06548488e-01, -1.54528707e-01,\n",
      "        -2.19024476e-02],\n",
      "       [ 8.43857080e-02, -2.59700380e-02,  2.65824050e-02,\n",
      "        -3.47392678e-01,  1.29358634e-01, -2.22342070e-02,\n",
      "         2.61544585e-02, -8.75450596e-02,  3.22820812e-01,\n",
      "         2.77233303e-01,  2.59920359e-01, -9.84604433e-02,\n",
      "         2.87187062e-02, -3.67831379e-01, -3.63572180e-01,\n",
      "         2.23791778e-01,  2.49467418e-01,  2.27063745e-01,\n",
      "        -1.81243464e-01,  2.41041228e-01,  3.58596891e-01,\n",
      "         3.70314658e-01,  3.50609124e-01, -3.90028991e-02,\n",
      "         1.87472269e-01],\n",
      "       [-1.97768062e-01,  6.41328394e-02, -6.55614138e-02,\n",
      "        -1.91744357e-01,  3.54551256e-01, -3.89319569e-01,\n",
      "        -3.79611760e-01,  2.99323022e-01, -1.17716238e-01,\n",
      "        -6.73053563e-02, -5.57045281e-01, -1.55542433e-01,\n",
      "         3.96806240e-01, -5.39039373e-02, -1.99518502e-02,\n",
      "         1.23381615e-03, -1.55113548e-01,  1.19515553e-01,\n",
      "        -2.70713508e-01,  5.80581546e-01, -1.44977756e-02,\n",
      "        -2.71349370e-01,  2.61236131e-01, -2.25851327e-01,\n",
      "         7.62530565e-02],\n",
      "       [ 3.06189060e-04, -2.08154190e-02, -2.45642126e-01,\n",
      "        -3.79412442e-01, -1.40378296e-01, -2.78293937e-01,\n",
      "         1.50477946e-01, -2.18172118e-01, -1.59776762e-01,\n",
      "         7.34215975e-03, -6.62317276e-01, -2.74870902e-01,\n",
      "         1.43624961e-01,  1.30807161e-01, -2.84105957e-01,\n",
      "        -3.36644292e-01,  4.28903222e-01, -8.01109076e-02,\n",
      "        -3.91558051e-01, -8.28166008e-02,  1.74264312e-01,\n",
      "         2.65837073e-01, -6.30610287e-02,  3.17368150e-01,\n",
      "        -1.64014325e-01],\n",
      "       [ 3.68902683e-02,  3.01005304e-01, -3.80428702e-01,\n",
      "        -2.11930871e-02,  1.87483966e-01, -4.23634052e-03,\n",
      "        -2.30209336e-01, -5.52631617e-02, -1.37755394e-01,\n",
      "        -3.78635257e-01, -1.91725791e-01,  5.76844215e-02,\n",
      "         2.97983408e-01,  2.30812967e-01, -2.30443880e-01,\n",
      "         3.09069157e-01, -2.42247105e-01, -2.81676829e-01,\n",
      "         2.50438094e-01, -3.66523594e-01, -8.83102417e-02,\n",
      "         2.85272479e-01, -3.25360537e-01, -1.55396700e-01,\n",
      "         2.29168236e-02],\n",
      "       [-4.77204993e-02,  3.03437710e-01,  3.96835268e-01,\n",
      "         1.60165474e-01,  1.66027367e-01,  3.92378032e-01,\n",
      "         3.48189235e-01,  3.67943823e-01,  1.31706521e-01,\n",
      "        -2.11086124e-01,  2.69248694e-01, -2.26382136e-01,\n",
      "         4.24698927e-02, -3.61131817e-01,  2.86912322e-01,\n",
      "         3.80161524e-01, -1.07562609e-01,  2.22052947e-01,\n",
      "        -1.09237038e-01, -6.21884942e-01, -3.03442389e-01,\n",
      "        -3.81203115e-01, -2.53192693e-01,  1.44523323e-01,\n",
      "        -1.79457396e-01],\n",
      "       [ 2.64814794e-01,  2.77899027e-01, -3.48065317e-01,\n",
      "         2.97181785e-01, -7.11894184e-02,  1.23101607e-01,\n",
      "        -2.95555025e-01, -3.62380624e-01,  2.63077557e-01,\n",
      "         3.75726044e-01, -7.79652521e-02, -3.94956321e-01,\n",
      "        -3.37921560e-01, -1.03584230e-01, -3.67549866e-01,\n",
      "        -2.89794743e-01, -3.55394065e-01, -1.51867434e-01,\n",
      "        -3.67699564e-02, -3.64809334e-02,  1.19856656e-01,\n",
      "         2.64027596e-01,  9.17360038e-02,  3.05669725e-01,\n",
      "         1.01966951e-02],\n",
      "       [ 4.74950410e-02, -2.71530330e-01,  3.13457459e-01,\n",
      "        -1.42419145e-01,  2.75648236e-01, -3.66661735e-02,\n",
      "         3.58927906e-01,  1.97808798e-02, -1.62493154e-01,\n",
      "         6.89361691e-02,  3.73682529e-01, -1.95402250e-01,\n",
      "         6.21486157e-02, -2.82163620e-02,  1.59390509e-01,\n",
      "        -5.90708852e-02, -2.64109194e-01,  3.18454534e-01,\n",
      "        -8.35441053e-02, -2.15809524e-01, -1.67309836e-01,\n",
      "         3.33616138e-02, -6.80253375e-03,  6.48152083e-02,\n",
      "        -2.79695004e-01]], dtype=float32), 'b2': array([[ 0.        ],\n",
      "       [ 0.        ],\n",
      "       [-0.02780928],\n",
      "       [-0.00082184],\n",
      "       [ 0.10284551],\n",
      "       [ 0.04422957],\n",
      "       [ 0.04315449],\n",
      "       [ 0.04156439],\n",
      "       [ 0.13080378],\n",
      "       [ 0.01287543],\n",
      "       [ 0.11407334],\n",
      "       [-0.0007074 ]], dtype=float32), 'W3': array([[-5.1321340e-01, -5.5575913e-01, -4.8871386e-01, -2.6456776e-01,\n",
      "         1.8946165e+00, -1.7275822e-01,  4.5008373e-01,  7.1650708e-01,\n",
      "         1.0223951e-01, -7.8895074e-01, -1.2347108e+00, -1.1553529e-01],\n",
      "       [ 5.1547086e-01,  2.8394473e-01,  1.0827366e-01,  4.8546624e-01,\n",
      "        -2.5895908e-01,  3.1586701e-01, -1.9824040e+00, -2.0571184e+00,\n",
      "        -1.8386641e+00, -8.7048492e-04, -5.3623444e-01,  4.3030366e-01],\n",
      "       [-1.6536459e-01, -1.0440472e-01, -4.3473199e-01, -3.4654990e-02,\n",
      "        -9.0964299e-01, -2.8093287e-01, -1.1167113e+00,  2.9676679e-01,\n",
      "        -1.4762910e-01,  3.3480135e-01, -1.8423831e-01,  1.5039206e-02],\n",
      "       [-3.4465876e-01,  3.3362341e-01,  1.5100072e-01, -6.4555787e-02,\n",
      "        -5.6425977e-01, -2.2662444e-02,  1.1851249e+00, -2.2665288e-01,\n",
      "        -2.3311267e+00, -1.2022625e+00, -3.2643504e-02, -4.3753251e-01],\n",
      "       [ 5.3192878e-01, -4.2718136e-01,  1.7947489e-02, -2.1337567e-01,\n",
      "        -1.0804796e+00, -8.6561823e-01,  2.3792388e-01, -5.8781821e-01,\n",
      "         1.5312874e+00,  3.8781473e-01,  6.3493526e-01,  2.1249019e-01],\n",
      "       [-2.9066956e-01,  2.0238376e-01,  4.8156869e-01, -3.7105739e-01,\n",
      "        -1.3203574e+00, -2.0094848e-01,  6.6408890e-01, -2.3529974e-01,\n",
      "        -6.1039132e-01, -1.5801582e-01, -1.5999912e-01, -4.2067143e-01]],\n",
      "      dtype=float32), 'b3': array([[-0.3199957 ],\n",
      "       [ 0.22384998],\n",
      "       [ 0.11178869],\n",
      "       [ 0.08619622],\n",
      "       [-0.0519918 ],\n",
      "       [-0.00425293]], dtype=float32)}\n"
     ]
    }
   ],
   "source": [
    "    print(\"parameters= \" + str(parameters))"
   ]
  },
  {
   "cell_type": "markdown",
   "metadata": {},
   "source": [
    "# Transfer Learning\n",
    "-**IMPORTANT**   \n",
    "As we have already Trained the dataset we can transfer the values of the parameters without needing to train a dataset every time we need to use our algorithm:\n",
    "\n",
    "```python\n",
    "def ParameterExportation(NumberOfWeights , NumberofBiases , PathWeights , PathBiases , WeightName , BiasesName ):\n",
    "        for i in range( 1 , NumberOfWeights ):\n",
    "            np.savetxt( PathWeights + WeightName + str(i) + '.dat' , parameters[\"W\"+str(i)] , delimiter=',')\n",
    "        for i in range( 1 , NumberofBiases ):\n",
    "            np.savetxt( PathBiases + BiasesName + str(i) +'.dat', parameters[\"b\"+str(i)] , delimiter=',')\n",
    "        print(\" Weights and Biases have been exported correctly !!\")\n",
    "```"
   ]
  },
  {
   "cell_type": "code",
   "execution_count": 27,
   "metadata": {},
   "outputs": [
    {
     "name": "stdout",
     "output_type": "stream",
     "text": [
      " Weights and Biases have been exported correctly !!\n"
     ]
    }
   ],
   "source": [
    "ParameterExportation(4 , 4 , 'C:\\\\Users\\\\aleja\\\\Desktop\\\\DeepLearning\\\\Parameters\\\\SignDetection\\\\Pruebas\\\\' , 'C:\\\\Users\\\\aleja\\\\Desktop\\\\DeepLearning\\\\Parameters\\\\SignDetection\\\\Pruebas\\\\' , 'parameters_W' , 'parameters_b' )"
   ]
  },
  {
   "cell_type": "code",
   "execution_count": 25,
   "metadata": {},
   "outputs": [],
   "source": [
    "def ParameterExportation(NumberOfWeights , NumberofBiases , PathWeights , PathBiases , WeightName , BiasesName ):\n",
    "        for i in range( 1 , NumberOfWeights ):\n",
    "            np.savetxt( PathWeights + WeightName + str(i) + '.dat' , parameters[\"W\"+str(i)] , delimiter=',')\n",
    "        for i in range( 1 , NumberofBiases ):\n",
    "            np.savetxt( PathBiases + BiasesName + str(i) +'.dat', parameters[\"b\"+str(i)] , delimiter=',')\n",
    "        print(\" Weights and Biases have been exported correctly !!\")"
   ]
  },
  {
   "cell_type": "code",
   "execution_count": 26,
   "metadata": {},
   "outputs": [
    {
     "name": "stdout",
     "output_type": "stream",
     "text": [
      " Weights and Biases have been exported correctly !!\n"
     ]
    }
   ],
   "source": [
    "ParameterExportation(4 , 4 , 'C:\\\\Users\\\\aleja\\\\Desktop\\\\DeepLearning\\\\Parameters\\\\SignDetection\\\\Pruebas\\\\' , 'C:\\\\Users\\\\aleja\\\\Desktop\\\\DeepLearning\\\\Parameters\\\\SignDetection\\\\Pruebas\\\\' , 'parameters_W' , 'parameters_b' )"
   ]
  },
  {
   "cell_type": "code",
   "execution_count": 22,
   "metadata": {},
   "outputs": [],
   "source": [
    "def Predict(NumberOfParameters):\n",
    "    for i in range( 1 , NumberOfParameters ):\n",
    "        params= {\n",
    "            \"W\" + str(i) : tf.convert_to_tensor(parameters[\"W\"+str(i)]),\n",
    "            \"b\" + str(i) : tf.convert_to_tensor(parameters[\"W\"+str(i)])\n",
    "        }\n",
    "        print(params)"
   ]
  },
  {
   "cell_type": "code",
   "execution_count": 24,
   "metadata": {},
   "outputs": [
    {
     "name": "stdout",
     "output_type": "stream",
     "text": [
      "{'W1': <tf.Tensor 'Const_11:0' shape=(25, 12288) dtype=float32>, 'b1': <tf.Tensor 'Const_12:0' shape=(25, 12288) dtype=float32>}\n",
      "{'W2': <tf.Tensor 'Const_13:0' shape=(12, 25) dtype=float32>, 'b2': <tf.Tensor 'Const_14:0' shape=(12, 25) dtype=float32>}\n",
      "{'W3': <tf.Tensor 'Const_15:0' shape=(6, 12) dtype=float32>, 'b3': <tf.Tensor 'Const_16:0' shape=(6, 12) dtype=float32>}\n"
     ]
    },
    {
     "ename": "KeyError",
     "evalue": "'W4'",
     "output_type": "error",
     "traceback": [
      "\u001b[1;31m---------------------------------------------------------------------------\u001b[0m",
      "\u001b[1;31mKeyError\u001b[0m                                  Traceback (most recent call last)",
      "\u001b[1;32m<ipython-input-24-803f5446c710>\u001b[0m in \u001b[0;36m<module>\u001b[1;34m()\u001b[0m\n\u001b[1;32m----> 1\u001b[1;33m \u001b[0mPredict\u001b[0m\u001b[1;33m(\u001b[0m\u001b[1;36m5\u001b[0m\u001b[1;33m)\u001b[0m\u001b[1;33m\u001b[0m\u001b[0m\n\u001b[0m",
      "\u001b[1;32m<ipython-input-22-1b3d38052218>\u001b[0m in \u001b[0;36mPredict\u001b[1;34m(NumberOfParameters)\u001b[0m\n\u001b[0;32m      2\u001b[0m     \u001b[1;32mfor\u001b[0m \u001b[0mi\u001b[0m \u001b[1;32min\u001b[0m \u001b[0mrange\u001b[0m\u001b[1;33m(\u001b[0m \u001b[1;36m1\u001b[0m \u001b[1;33m,\u001b[0m \u001b[0mNumberOfParameters\u001b[0m \u001b[1;33m)\u001b[0m\u001b[1;33m:\u001b[0m\u001b[1;33m\u001b[0m\u001b[0m\n\u001b[0;32m      3\u001b[0m         params= {\n\u001b[1;32m----> 4\u001b[1;33m             \u001b[1;34m\"W\"\u001b[0m \u001b[1;33m+\u001b[0m \u001b[0mstr\u001b[0m\u001b[1;33m(\u001b[0m\u001b[0mi\u001b[0m\u001b[1;33m)\u001b[0m \u001b[1;33m:\u001b[0m \u001b[0mtf\u001b[0m\u001b[1;33m.\u001b[0m\u001b[0mconvert_to_tensor\u001b[0m\u001b[1;33m(\u001b[0m\u001b[0mparameters\u001b[0m\u001b[1;33m[\u001b[0m\u001b[1;34m\"W\"\u001b[0m\u001b[1;33m+\u001b[0m\u001b[0mstr\u001b[0m\u001b[1;33m(\u001b[0m\u001b[0mi\u001b[0m\u001b[1;33m)\u001b[0m\u001b[1;33m]\u001b[0m\u001b[1;33m)\u001b[0m\u001b[1;33m,\u001b[0m\u001b[1;33m\u001b[0m\u001b[0m\n\u001b[0m\u001b[0;32m      5\u001b[0m             \u001b[1;34m\"b\"\u001b[0m \u001b[1;33m+\u001b[0m \u001b[0mstr\u001b[0m\u001b[1;33m(\u001b[0m\u001b[0mi\u001b[0m\u001b[1;33m)\u001b[0m \u001b[1;33m:\u001b[0m \u001b[0mtf\u001b[0m\u001b[1;33m.\u001b[0m\u001b[0mconvert_to_tensor\u001b[0m\u001b[1;33m(\u001b[0m\u001b[0mparameters\u001b[0m\u001b[1;33m[\u001b[0m\u001b[1;34m\"W\"\u001b[0m\u001b[1;33m+\u001b[0m\u001b[0mstr\u001b[0m\u001b[1;33m(\u001b[0m\u001b[0mi\u001b[0m\u001b[1;33m)\u001b[0m\u001b[1;33m]\u001b[0m\u001b[1;33m)\u001b[0m\u001b[1;33m\u001b[0m\u001b[0m\n\u001b[0;32m      6\u001b[0m         }\n",
      "\u001b[1;31mKeyError\u001b[0m: 'W4'"
     ]
    }
   ],
   "source": [
    "Predict(5)"
   ]
  },
  {
   "cell_type": "code",
   "execution_count": 3,
   "metadata": {},
   "outputs": [
    {
     "data": {
      "text/plain": [
       "1"
      ]
     },
     "execution_count": 3,
     "metadata": {},
     "output_type": "execute_result"
    }
   ],
   "source": [
    "a=6\n",
    "b=4\n",
    "int(a/b)"
   ]
  },
  {
   "cell_type": "code",
   "execution_count": 9,
   "metadata": {},
   "outputs": [
    {
     "name": "stdout",
     "output_type": "stream",
     "text": [
      "6\n"
     ]
    }
   ],
   "source": [
    "import math\n",
    "print(math.ceil(18/4+1))"
   ]
  },
  {
   "cell_type": "code",
   "execution_count": null,
   "metadata": {},
   "outputs": [],
   "source": [
    "|"
   ]
  }
 ],
 "metadata": {
  "kernelspec": {
   "display_name": "Python 3",
   "language": "python",
   "name": "python3"
  },
  "language_info": {
   "codemirror_mode": {
    "name": "ipython",
    "version": 3
   },
   "file_extension": ".py",
   "mimetype": "text/x-python",
   "name": "python",
   "nbconvert_exporter": "python",
   "pygments_lexer": "ipython3",
   "version": "3.6.5"
  }
 },
 "nbformat": 4,
 "nbformat_minor": 2
}

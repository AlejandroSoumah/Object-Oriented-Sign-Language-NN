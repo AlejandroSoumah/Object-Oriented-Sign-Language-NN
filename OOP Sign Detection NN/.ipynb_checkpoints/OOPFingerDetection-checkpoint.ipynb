{
 "cells": [
  {
   "cell_type": "markdown",
   "metadata": {},
   "source": [
    "# Object Orientated Sign Detection NN"
   ]
  },
  {
   "cell_type": "code",
   "execution_count": 2,
   "metadata": {},
   "outputs": [
    {
     "name": "stdout",
     "output_type": "stream",
     "text": [
      "Requirement already up-to-date: tensorflow in c:\\users\\aleja\\documents\\anaconda3\\lib\\site-packages (1.11.0)\n",
      "Requirement already up-to-date: tensorboard in c:\\users\\aleja\\documents\\anaconda3\\lib\\site-packages (1.11.0)\n",
      "Requirement already satisfied, skipping upgrade: keras-preprocessing>=1.0.3 in c:\\users\\aleja\\documents\\anaconda3\\lib\\site-packages (from tensorflow) (1.0.5)\n",
      "Requirement already satisfied, skipping upgrade: astor>=0.6.0 in c:\\users\\aleja\\documents\\anaconda3\\lib\\site-packages (from tensorflow) (0.6.2)\n",
      "Requirement already satisfied, skipping upgrade: setuptools<=39.1.0 in c:\\users\\aleja\\documents\\anaconda3\\lib\\site-packages (from tensorflow) (39.1.0)\n",
      "Requirement already satisfied, skipping upgrade: grpcio>=1.8.6 in c:\\users\\aleja\\documents\\anaconda3\\lib\\site-packages (from tensorflow) (1.12.1)\n",
      "Requirement already satisfied, skipping upgrade: absl-py>=0.1.6 in c:\\users\\aleja\\documents\\anaconda3\\lib\\site-packages (from tensorflow) (0.2.2)\n",
      "Requirement already satisfied, skipping upgrade: numpy>=1.13.3 in c:\\users\\aleja\\documents\\anaconda3\\lib\\site-packages (from tensorflow) (1.15.2)\n",
      "Requirement already satisfied, skipping upgrade: termcolor>=1.1.0 in c:\\users\\aleja\\documents\\anaconda3\\lib\\site-packages (from tensorflow) (1.1.0)\n",
      "Requirement already satisfied, skipping upgrade: keras-applications>=1.0.5 in c:\\users\\aleja\\documents\\anaconda3\\lib\\site-packages (from tensorflow) (1.0.6)\n",
      "Requirement already satisfied, skipping upgrade: wheel>=0.26 in c:\\users\\aleja\\documents\\anaconda3\\lib\\site-packages (from tensorflow) (0.31.1)\n",
      "Requirement already satisfied, skipping upgrade: protobuf>=3.6.0 in c:\\users\\aleja\\documents\\anaconda3\\lib\\site-packages (from tensorflow) (3.6.0)\n",
      "Requirement already satisfied, skipping upgrade: six>=1.10.0 in c:\\users\\aleja\\documents\\anaconda3\\lib\\site-packages (from tensorflow) (1.11.0)\n",
      "Requirement already satisfied, skipping upgrade: gast>=0.2.0 in c:\\users\\aleja\\documents\\anaconda3\\lib\\site-packages (from tensorflow) (0.2.0)\n",
      "Requirement already satisfied, skipping upgrade: markdown>=2.6.8 in c:\\users\\aleja\\documents\\anaconda3\\lib\\site-packages (from tensorboard) (2.6.11)\n",
      "Requirement already satisfied, skipping upgrade: werkzeug>=0.11.10 in c:\\users\\aleja\\documents\\anaconda3\\lib\\site-packages (from tensorboard) (0.14.1)\n",
      "Requirement already satisfied, skipping upgrade: h5py in c:\\users\\aleja\\documents\\anaconda3\\lib\\site-packages (from keras-applications>=1.0.5->tensorflow) (2.7.1)\n",
      "Requirement already satisfied: tensorflow-gpu in c:\\users\\aleja\\documents\\anaconda3\\lib\\site-packages (1.11.0)\n",
      "Requirement already satisfied: termcolor>=1.1.0 in c:\\users\\aleja\\documents\\anaconda3\\lib\\site-packages (from tensorflow-gpu) (1.1.0)\n",
      "Requirement already satisfied: tensorboard<1.12.0,>=1.11.0 in c:\\users\\aleja\\documents\\anaconda3\\lib\\site-packages (from tensorflow-gpu) (1.11.0)\n",
      "Requirement already satisfied: grpcio>=1.8.6 in c:\\users\\aleja\\documents\\anaconda3\\lib\\site-packages (from tensorflow-gpu) (1.12.1)\n",
      "Requirement already satisfied: protobuf>=3.6.0 in c:\\users\\aleja\\documents\\anaconda3\\lib\\site-packages (from tensorflow-gpu) (3.6.0)\n",
      "Requirement already satisfied: numpy>=1.13.3 in c:\\users\\aleja\\documents\\anaconda3\\lib\\site-packages (from tensorflow-gpu) (1.15.2)\n",
      "Requirement already satisfied: gast>=0.2.0 in c:\\users\\aleja\\documents\\anaconda3\\lib\\site-packages (from tensorflow-gpu) (0.2.0)\n",
      "Requirement already satisfied: absl-py>=0.1.6 in c:\\users\\aleja\\documents\\anaconda3\\lib\\site-packages (from tensorflow-gpu) (0.2.2)\n",
      "Requirement already satisfied: six>=1.10.0 in c:\\users\\aleja\\documents\\anaconda3\\lib\\site-packages (from tensorflow-gpu) (1.11.0)\n",
      "Requirement already satisfied: wheel>=0.26 in c:\\users\\aleja\\documents\\anaconda3\\lib\\site-packages (from tensorflow-gpu) (0.31.1)\n",
      "Requirement already satisfied: keras-applications>=1.0.5 in c:\\users\\aleja\\documents\\anaconda3\\lib\\site-packages (from tensorflow-gpu) (1.0.6)\n",
      "Requirement already satisfied: keras-preprocessing>=1.0.3 in c:\\users\\aleja\\documents\\anaconda3\\lib\\site-packages (from tensorflow-gpu) (1.0.5)\n",
      "Requirement already satisfied: setuptools<=39.1.0 in c:\\users\\aleja\\documents\\anaconda3\\lib\\site-packages (from tensorflow-gpu) (39.1.0)\n",
      "Requirement already satisfied: astor>=0.6.0 in c:\\users\\aleja\\documents\\anaconda3\\lib\\site-packages (from tensorflow-gpu) (0.6.2)\n",
      "Requirement already satisfied: werkzeug>=0.11.10 in c:\\users\\aleja\\documents\\anaconda3\\lib\\site-packages (from tensorboard<1.12.0,>=1.11.0->tensorflow-gpu) (0.14.1)\n",
      "Requirement already satisfied: markdown>=2.6.8 in c:\\users\\aleja\\documents\\anaconda3\\lib\\site-packages (from tensorboard<1.12.0,>=1.11.0->tensorflow-gpu) (2.6.11)\n",
      "Requirement already satisfied: h5py in c:\\users\\aleja\\documents\\anaconda3\\lib\\site-packages (from keras-applications>=1.0.5->tensorflow-gpu) (2.7.1)\n"
     ]
    }
   ],
   "source": [
    "\n",
    "!pip install --upgrade tensorflow tensorboard --user\n",
    "!pip install tensorflow-gpu --user\n"
   ]
  },
  {
   "cell_type": "code",
   "execution_count": 1,
   "metadata": {},
   "outputs": [
    {
     "name": "stderr",
     "output_type": "stream",
     "text": [
      "C:\\Users\\aleja\\Documents\\Anaconda3\\lib\\site-packages\\h5py\\__init__.py:36: FutureWarning: Conversion of the second argument of issubdtype from `float` to `np.floating` is deprecated. In future, it will be treated as `np.float64 == np.dtype(float).type`.\n",
      "  from ._conv import register_converters as _register_converters\n"
     ]
    }
   ],
   "source": [
    "#import all packages\n",
    "import h5py\n",
    "import math\n",
    "import numpy as np\n",
    "import pandas as pd\n",
    "import tensorflow as tf\n",
    "import Parametised_tf_utils\n",
    "from Parametised_tf_utils import load_dataset, random_mini_batches, convert_to_one_hot, predict\n",
    "from tensorflow.python.framework import ops\n",
    "from ParameterExportation import ParameterExportation\n",
    "import ParameterExportation\n",
    "import matplotlib.pyplot as plt"
   ]
  },
  {
   "cell_type": "code",
   "execution_count": 6,
   "metadata": {},
   "outputs": [],
   "source": [
    "class Sign_Language_Detection():\n",
    "    num_epochs = 1500\n",
    "    minibatch_size = 32\n",
    "    print_cost = True\n",
    "    learning_rate = 0.0001\n",
    "    #parameters = Sign_Language_Detection.parameters\n",
    "    class Data_Preparation():\n",
    "        def __init__(self,n_x,n_y):\n",
    "            self.n_x=n_x\n",
    "            self.n_y=n_y\n",
    "        def M_data_collection(self):\n",
    "            # Loading the dataset\n",
    "            X_train_orig, Y_train_orig, X_test_orig,Y_test_orig, classes = load_dataset(\"Dataset/train_signs.h5\",\"Dataset/test_signs.h5\")      \n",
    "            return X_train_orig, Y_train_orig, X_test_orig,Y_test_orig, classes\n",
    "        def M_data_normalization(self):\n",
    "            # Flatten the training and test images\n",
    "            X_train_flatten = X_train_orig.reshape(X_train_orig.shape[0], -1 ).T\n",
    "            X_test_flatten =  X_test_orig.reshape(X_test_orig.shape[0], -1).T\n",
    "            #Normalize Data\n",
    "            X_train=X_train_flatten/255\n",
    "            X_test=X_test_flatten/255\n",
    "            #Convert to one hot encoding, Function= convert_to_one_hot\n",
    "            Y_train=convert_to_one_hot(Y_train_orig,6) #First parameter-the Data and second the Number of classes(Y,C)\n",
    "            Y_test=convert_to_one_hot(Y_test_orig,6) #First parameter-the Data and second the Number of classes(Y,C)\n",
    "            return X_train,X_test,Y_train,Y_test\n",
    "    class Forward_Propagation(Data_Preparation):       \n",
    "            def __init__(self,n_x,n_y,layer_dims,parameters):\n",
    "                super().__init__(n_x,n_y)\n",
    "                self.layer_dims=layer_dims\n",
    "                self.parameters=parameters\n",
    "            def M_create_placeholders(self):\n",
    "                X= tf.placeholder(tf.float32,shape=[self.n_x,None] ,name='X')\n",
    "                Y= tf.placeholder(tf.float32,shape=[self.n_y,None] ,name='Y')\n",
    "\n",
    "                return X, Y\n",
    "            def M_initialize_parameters_parametized(self):\n",
    "                L = len(self.layer_dims)  \n",
    "                for l in range(1, L):\n",
    "                    self.parameters['W' + str(l)] = tf.get_variable(\"W\"+str(l),[self.layer_dims[l], self.layer_dims[l-1]],initializer=tf.contrib.layers.xavier_initializer(seed=1))\n",
    "                    self.parameters['b' + str(l)] = tf.get_variable(\"b\"+str(l),[self.layer_dims[l], 1],initializer=tf.zeros_initializer)\n",
    "                    assert(self.parameters['W' + str(l)].shape == (self.layer_dims[l], self.layer_dims[l-1]))\n",
    "                    assert(self.parameters['b' + str(l)].shape == (self.layer_dims[l], 1))\n",
    "                return self.parameters\n",
    "\n",
    "            def M_forward_propagation(self,X,parameters):\n",
    "                L = len(self.layer_dims)  \n",
    "                Z_Parameters={\n",
    "\n",
    "                }\n",
    "                A=[]\n",
    "                Z_L_Iteration=\"0\"\n",
    "                A.append(X)\n",
    "                for l in range(1,L):\n",
    "                    Z_Parameters[\"Z\"+str(l)]=tf.add(tf.matmul(self.parameters[\"W\"+str(l)],A[l-1]),self.parameters[\"b\"+str(l)])\n",
    "                    A.append(tf.nn.relu(Z_Parameters[\"Z\"+str(l)]))  \n",
    "                    if l == L-1:\n",
    "                        Z_L_Iteration=Z_Parameters[\"Z\"+str(l)]\n",
    "                return Z_Parameters,A,Z_L_Iteration\n",
    "\n",
    "    class Back_Propagation(Forward_Propagation):\n",
    "        def __init__(self,n_x,n_y,layer_dims,X_train, Y_train, X_test, Y_test):\n",
    "            super().__init__(n_x,n_y,layer_dims,parameters)\n",
    "            self.X_train=X_train\n",
    "            self.Y_train=Y_train\n",
    "            self.X_test=X_test\n",
    "            self.Y_test=Y_test\n",
    "        def M_compute_cost(self,Z,Y):\n",
    "            logits=tf.transpose(Z)\n",
    "            labels=tf.transpose(Y)\n",
    "            cost = tf.reduce_mean(tf.nn.softmax_cross_entropy_with_logits(\n",
    "                                                                          logits = logits,\n",
    "                                                                          labels =labels))\n",
    "            return cost\n",
    "        def M_Back_Prop(self):\n",
    "        \n",
    "            #ops.reset_default_graph()                         # to be able to rerun the model without overwriting tf variables\n",
    "            tf.set_random_seed(1)                             # to keep consistent results\n",
    "            seed = 3                                          # to keep consistent results\n",
    "            (n_x, m) = X_train.shape                          # (n_x: input size, m : number of examples in the train set)\n",
    "            n_y = Y_train.shape[0]                            # n_y : output size\n",
    "            costs = []                                        # To keep track of the cost\n",
    "\n",
    "            L=len(self.layer_dims)\n",
    "            learning_rate=Sign_Language_Detection.learning_rate\n",
    "            optimizer = tf.train.AdamOptimizer(learning_rate=learning_rate).minimize(cost)\n",
    "            num_epochs=Sign_Language_Detection.num_epochs\n",
    "            minibatch_size=Sign_Language_Detection.minibatch_size\n",
    "            print_cost = True\n",
    "            init = tf.global_variables_initializer()\n",
    "    \n",
    "            with tf.Session() as sess:\n",
    "                sess.run(init)\n",
    "                for epoch in range(num_epochs):\n",
    "\n",
    "                    epoch_cost = 0.                       # Defines a cost related to an epoch\n",
    "                    num_minibatches = int(m / minibatch_size) # number of minibatches of size minibatch_size in the train set\n",
    "                    seed = seed + 1\n",
    "                    minibatches = random_mini_batches(X_train, Y_train, minibatch_size, seed)\n",
    "                    for minibatch in minibatches:\n",
    "\n",
    "                        (minibatch_X, minibatch_Y) = minibatch\n",
    "                        _ , minibatch_cost = sess.run([optimizer, cost], \n",
    "                                                     feed_dict={X: minibatch_X, \n",
    "                                                                Y: minibatch_Y})\n",
    "                        epoch_cost += minibatch_cost / num_minibatches\n",
    "\n",
    "                    # Print the cost every epoch\n",
    "                    if print_cost == True and epoch % 100 == 0:\n",
    "                        print (\"Cost after epoch %i: %f\" % (epoch, epoch_cost))\n",
    "                    if print_cost == True and epoch % 5 == 0:\n",
    "                        costs.append(epoch_cost)\n",
    "\n",
    "                # plot the cost\n",
    "                plt.plot(np.squeeze(costs))\n",
    "                plt.ylabel('cost')\n",
    "                plt.xlabel('iterations (per tens)')\n",
    "                plt.title(\"Learning rate =\" + str(learning_rate))\n",
    "                plt.show()\n",
    "\n",
    "                # lets save the parameters in a variable\n",
    "                parameters = sess.run(self.parameters)\n",
    "                print (\"Parameters have been trained!\")\n",
    "\n",
    "                # Calculate the correct predictions\n",
    "                correct_prediction = tf.equal(tf.argmax(Z_L_Iteration), tf.argmax(Y))\n",
    "\n",
    "                # Calculate accuracy on the test set\n",
    "                accuracy = tf.reduce_mean(tf.cast(correct_prediction, \"float\"))\n",
    "\n",
    "                print (\"Train Accuracy:\", accuracy.eval({X: X_train, Y: Y_train}))\n",
    "                print (\"Test Accuracy:\", accuracy.eval({X: X_test, Y: Y_test}))\n",
    "\n",
    "                return parameters"
   ]
  },
  {
   "cell_type": "code",
   "execution_count": 8,
   "metadata": {},
   "outputs": [
    {
     "name": "stdout",
     "output_type": "stream",
     "text": [
      "X =Tensor(\"X:0\", shape=(12288, ?), dtype=float32)\n",
      "Y =Tensor(\"Y:0\", shape=(6, ?), dtype=float32)\n",
      "W1=<tf.Variable 'W1:0' shape=(25, 12288) dtype=float32_ref>\n",
      "b1=<tf.Variable 'b1:0' shape=(25, 1) dtype=float32_ref>\n",
      "W2=<tf.Variable 'W2:0' shape=(12, 25) dtype=float32_ref>\n",
      "b2=<tf.Variable 'b2:0' shape=(12, 1) dtype=float32_ref>\n",
      "W3=<tf.Variable 'W3:0' shape=(6, 12) dtype=float32_ref>\n",
      "b3=<tf.Variable 'b3:0' shape=(6, 1) dtype=float32_ref>\n",
      "Z = {'Z1': <tf.Tensor 'Add:0' shape=(25, ?) dtype=float32>, 'Z2': <tf.Tensor 'Add_1:0' shape=(12, ?) dtype=float32>, 'Z3': <tf.Tensor 'Add_2:0' shape=(6, ?) dtype=float32>}\n",
      "A =[<tf.Tensor 'X:0' shape=(12288, ?) dtype=float32>, <tf.Tensor 'Relu:0' shape=(25, ?) dtype=float32>, <tf.Tensor 'Relu_1:0' shape=(12, ?) dtype=float32>, <tf.Tensor 'Relu_2:0' shape=(6, ?) dtype=float32>]\n",
      "Z3 =Tensor(\"Add_2:0\", shape=(6, ?), dtype=float32)\n",
      "WARNING:tensorflow:From <ipython-input-6-8d7494ce7862>:67: softmax_cross_entropy_with_logits (from tensorflow.python.ops.nn_ops) is deprecated and will be removed in a future version.\n",
      "Instructions for updating:\n",
      "\n",
      "Future major versions of TensorFlow will allow gradients to flow\n",
      "into the labels input on backprop by default.\n",
      "\n",
      "See `tf.nn.softmax_cross_entropy_with_logits_v2`.\n",
      "\n"
     ]
    },
    {
     "ename": "NameError",
     "evalue": "name 'X_train' is not defined",
     "output_type": "error",
     "traceback": [
      "\u001b[1;31m---------------------------------------------------------------------------\u001b[0m",
      "\u001b[1;31mNameError\u001b[0m                                 Traceback (most recent call last)",
      "\u001b[1;32m<ipython-input-8-531f7c9a20e0>\u001b[0m in \u001b[0;36m<module>\u001b[1;34m()\u001b[0m\n\u001b[0;32m     22\u001b[0m     \u001b[0mFirstMBP\u001b[0m\u001b[1;33m=\u001b[0m\u001b[0mFirstSLD\u001b[0m\u001b[1;33m.\u001b[0m\u001b[0mBack_Propagation\u001b[0m\u001b[1;33m(\u001b[0m\u001b[1;36m12288\u001b[0m\u001b[1;33m,\u001b[0m\u001b[1;36m6\u001b[0m\u001b[1;33m,\u001b[0m\u001b[0mlayer_dims\u001b[0m\u001b[1;33m)\u001b[0m\u001b[1;33m\u001b[0m\u001b[0m\n\u001b[0;32m     23\u001b[0m     \u001b[0mcost\u001b[0m\u001b[1;33m=\u001b[0m\u001b[0mFirstMBP\u001b[0m\u001b[1;33m.\u001b[0m\u001b[0mM_compute_cost\u001b[0m\u001b[1;33m(\u001b[0m\u001b[0mZ_L_Iteration\u001b[0m\u001b[1;33m,\u001b[0m\u001b[0mY\u001b[0m\u001b[1;33m)\u001b[0m\u001b[1;33m\u001b[0m\u001b[0m\n\u001b[1;32m---> 24\u001b[1;33m     \u001b[0mparameters\u001b[0m\u001b[1;33m=\u001b[0m\u001b[0mFirstMBP\u001b[0m\u001b[1;33m.\u001b[0m\u001b[0mM_Back_Prop\u001b[0m\u001b[1;33m(\u001b[0m\u001b[1;33m)\u001b[0m\u001b[1;33m\u001b[0m\u001b[0m\n\u001b[0m",
      "\u001b[1;32m<ipython-input-6-8d7494ce7862>\u001b[0m in \u001b[0;36mM_Back_Prop\u001b[1;34m(self)\u001b[0m\n\u001b[0;32m     72\u001b[0m             \u001b[0mtf\u001b[0m\u001b[1;33m.\u001b[0m\u001b[0mset_random_seed\u001b[0m\u001b[1;33m(\u001b[0m\u001b[1;36m1\u001b[0m\u001b[1;33m)\u001b[0m                             \u001b[1;31m# to keep consistent results\u001b[0m\u001b[1;33m\u001b[0m\u001b[0m\n\u001b[0;32m     73\u001b[0m             \u001b[0mseed\u001b[0m \u001b[1;33m=\u001b[0m \u001b[1;36m3\u001b[0m                                          \u001b[1;31m# to keep consistent results\u001b[0m\u001b[1;33m\u001b[0m\u001b[0m\n\u001b[1;32m---> 74\u001b[1;33m             \u001b[1;33m(\u001b[0m\u001b[0mn_x\u001b[0m\u001b[1;33m,\u001b[0m \u001b[0mm\u001b[0m\u001b[1;33m)\u001b[0m \u001b[1;33m=\u001b[0m \u001b[0mX_train\u001b[0m\u001b[1;33m.\u001b[0m\u001b[0mshape\u001b[0m                          \u001b[1;31m# (n_x: input size, m : number of examples in the train set)\u001b[0m\u001b[1;33m\u001b[0m\u001b[0m\n\u001b[0m\u001b[0;32m     75\u001b[0m             \u001b[0mn_y\u001b[0m \u001b[1;33m=\u001b[0m \u001b[0mY_train\u001b[0m\u001b[1;33m.\u001b[0m\u001b[0mshape\u001b[0m\u001b[1;33m[\u001b[0m\u001b[1;36m0\u001b[0m\u001b[1;33m]\u001b[0m                            \u001b[1;31m# n_y : output size\u001b[0m\u001b[1;33m\u001b[0m\u001b[0m\n\u001b[0;32m     76\u001b[0m             \u001b[0mcosts\u001b[0m \u001b[1;33m=\u001b[0m \u001b[1;33m[\u001b[0m\u001b[1;33m]\u001b[0m                                        \u001b[1;31m# To keep track of the cost\u001b[0m\u001b[1;33m\u001b[0m\u001b[0m\n",
      "\u001b[1;31mNameError\u001b[0m: name 'X_train' is not defined"
     ]
    }
   ],
   "source": [
    "\n",
    "tf.reset_default_graph()\n",
    "with tf.Session() as sess:\n",
    "    parameters = {} \n",
    "    layer_dims = [12288,25,12,6] \n",
    "    \n",
    "    FirstSLD=Sign_Language_Detection()\n",
    "    FirstDP=FirstSLD.Data_Preparation(12288,6)\n",
    "    X_train_orig, Y_train_orig, X_test_orig,Y_test_orig, classes=FirstDP.M_data_collection()\n",
    "    X_train,X_test,Y_train,Y_test = FirstDP.M_data_normalization()\n",
    "    FirstFP=FirstSLD.Forward_Propagation(12288,6,layer_dims,parameters)\n",
    "    X ,Y = FirstFP.M_create_placeholders()\n",
    "    parameters = FirstFP.M_initialize_parameters_parametized()\n",
    "    Z_Parameters,A,Z_L_Iteration = FirstFP.M_forward_propagation(X,parameters)\n",
    "    print(\"X =\" + str(X))\n",
    "    print(\"Y =\" + str(Y))\n",
    "    L=len(layer_dims)\n",
    "    for l in range(1,L):\n",
    "        print(\"W\"+str(l)+\"=\" + str(parameters[\"W\"+str(l)]))\n",
    "        print(\"b\"+str(l)+\"=\" + str(parameters[\"b\"+str(l)]))\n",
    "    print(\"Z = \" + str(Z_Parameters))\n",
    "    print(\"A =\" +str(A))\n",
    "    print(\"Z3 =\" + str(Z_L_Iteration))\n",
    "    FirstMBP=FirstSLD.Back_Propagation(12288,6,layer_dims,X_train,Y_train,X_test,Y_test)\n",
    "    cost=FirstMBP.M_compute_cost(Z_L_Iteration,Y)\n",
    "    parameters=FirstMBP.M_Back_Prop()"
   ]
  },
  {
   "cell_type": "code",
   "execution_count": 28,
   "metadata": {},
   "outputs": [
    {
     "name": "stdout",
     "output_type": "stream",
     "text": [
      "Your algorithm predicts: y = 2"
     ]
    },
    {
     "name": "stderr",
     "output_type": "stream",
     "text": [
      "C:\\Users\\aleja\\Documents\\Anaconda3\\lib\\site-packages\\ipykernel_launcher.py:11: DeprecationWarning: `imread` is deprecated!\n",
      "`imread` is deprecated in SciPy 1.0.0.\n",
      "Use ``matplotlib.pyplot.imread`` instead.\n",
      "  # This is added back by InteractiveShellApp.init_path()\n",
      "C:\\Users\\aleja\\Documents\\Anaconda3\\lib\\site-packages\\ipykernel_launcher.py:12: DeprecationWarning: `imresize` is deprecated!\n",
      "`imresize` is deprecated in SciPy 1.0.0, and will be removed in 1.2.0.\n",
      "Use ``skimage.transform.resize`` instead.\n",
      "  if sys.path[0] == '':\n"
     ]
    },
    {
     "name": "stdout",
     "output_type": "stream",
     "text": [
      "\n"
     ]
    },
    {
     "data": {
      "image/png": "[encoded data removed]",
      "text/plain": [
       "<Figure size 432x288 with 1 Axes>"
      ]
     },
     "metadata": {},
     "output_type": "display_data"
    }
   ],
   "source": [
    "import scipy\n",
    "from PIL import Image\n",
    "from scipy import ndimage\n",
    "## START CODE HERE ## (PUT YOUR IMAGE NAME) \n",
    "my_image = \"img1.jpg\"\n",
    "## END CODE HERE ##\n",
    "\n",
    "# We preprocess your image to fit your algorithm.\n",
    "layers_dims = [12288,25,12,6] \n",
    "fname = \"Images/\" + my_image\n",
    "image = np.array(ndimage.imread(fname, flatten=False))\n",
    "my_image = scipy.misc.imresize(image, size=(64,64)).reshape((1, 64*64*3)).T\n",
    "my_image_prediction = predict(my_image, parameters,layers_dims)\n",
    "\n",
    "plt.imshow(image)\n",
    "print(\"Your algorithm predicts: y = \" + str(np.squeeze(my_image_prediction)))"
   ]
  },
  {
   "cell_type": "code",
   "execution_count": null,
   "metadata": {},
   "outputs": [],
   "source": []
  }
 ],
 "metadata": {
  "kernelspec": {
   "display_name": "Python 3",
   "language": "python",
   "name": "python3"
  },
  "language_info": {
   "codemirror_mode": {
    "name": "ipython",
    "version": 3
   },
   "file_extension": ".py",
   "mimetype": "text/x-python",
   "name": "python",
   "nbconvert_exporter": "python",
   "pygments_lexer": "ipython3",
   "version": "3.6.5"
  }
 },
 "nbformat": 4,
 "nbformat_minor": 2
}

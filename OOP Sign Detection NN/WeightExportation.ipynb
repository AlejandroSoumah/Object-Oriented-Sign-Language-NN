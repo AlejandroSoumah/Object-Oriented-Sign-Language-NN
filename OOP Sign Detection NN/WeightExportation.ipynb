{
 "cells": [
  {
   "cell_type": "code",
   "execution_count": null,
   "metadata": {},
   "outputs": [],
   "source": [
    "import numpy as np\n",
    "\n",
    "valores_W1 = np.loadtxt('C:\\\\Users\\\\aleja\\\\Desktop\\\\DeepLearning\\\\Parameters\\\\SignDetection\\\\parameters_W1.dat', delimiter=',', dtype='float32')\n",
    "valores_b1 = np.loadtxt('C:\\\\Users\\\\aleja\\\\Desktop\\\\DeepLearning\\\\Parameters\\\\SignDetection\\\\parameters_b1.dat', delimiter=',', dtype='float32')\n",
    "valores_W2 = np.loadtxt('C:\\\\Users\\\\aleja\\\\Desktop\\\\DeepLearning\\\\Parameters\\\\SignDetection\\\\parameters_W2.dat', delimiter=',', dtype='float32')\n",
    "valores_b2 = np.loadtxt('C:\\\\Users\\\\aleja\\\\Desktop\\\\DeepLearning\\\\Parameters\\\\SignDetection\\\\parameters_b2.dat', delimiter=',', dtype='float32')\n",
    "valores_W3 = np.loadtxt('C:\\\\Users\\\\aleja\\\\Desktop\\\\DeepLearning\\\\Parameters\\\\SignDetection\\\\parameters_W3.dat', delimiter=',', dtype='float32')\n",
    "valores_b3 = np.loadtxt('C:\\\\Users\\\\aleja\\\\Desktop\\\\DeepLearning\\\\Parameters\\\\SignDetection\\\\parameters_b3.dat', delimiter=',', dtype='float32')\n",
    "\n",
    "neuronas = {\n",
    "    \"W1\" : valores_W1,\n",
    "    \"b1\" : np.array([valores_b1]).T,\n",
    "    \"W2\" : valores_W2,\n",
    "    \"b2\" : np.array([valores_b2]).T,\n",
    "    \"W3\" : valores_W3,\n",
    "    \"b3\" : np.array([valores_b3]).T\n",
    "}\n",
    "\n",
    "print(neuronas)\n",
    "\n",
    "\n",
    "np.savetxt('C:\\\\Users\\\\aleja\\\\Desktop\\\\DeepLearning\\\\Parameters\\\\SignDetection\\\\neuronas_W1.dat', neuronas[\"W1\"], delimiter=',')\n",
    "np.savetxt('C:\\\\Users\\\\aleja\\\\Desktop\\\\DeepLearning\\\\Parameters\\\\SignDetection\\\\neuronas_b1.dat', neuronas[\"b1\"], delimiter=',')\n",
    "np.savetxt('C:\\\\Users\\\\aleja\\\\Desktop\\\\DeepLearning\\\\Parameters\\\\SignDetection\\\\neuronas_W2.dat', neuronas[\"W2\"], delimiter=',')\n",
    "np.savetxt('C:\\\\Users\\\\aleja\\\\Desktop\\\\DeepLearning\\\\Parameters\\\\SignDetection\\\\neuronas_b2.dat', neuronas[\"b2\"], delimiter=',')\n",
    "np.savetxt('C:\\\\Users\\\\aleja\\\\Desktop\\\\DeepLearning\\\\Parameters\\\\SignDetection\\\\neuronas_W3.dat', neuronas[\"W3\"], delimiter=',')\n",
    "np.savetxt('C:\\\\Users\\\\aleja\\\\Desktop\\\\DeepLearning\\\\Parameters\\\\SignDetection\\\\neuronas_b3.dat', neuronas[\"b3\"], delimiter=',')\n"
   ]
  },
  {
   "cell_type": "code",
   "execution_count": 16,
   "metadata": {},
   "outputs": [],
   "source": [
    "import numpy as np"
   ]
  },
  {
   "cell_type": "code",
   "execution_count": 1,
   "metadata": {},
   "outputs": [
    {
     "ename": "SyntaxError",
     "evalue": "invalid syntax (<ipython-input-1-6f0438adc00e>, line 2)",
     "output_type": "error",
     "traceback": [
      "\u001b[1;36m  File \u001b[1;32m\"<ipython-input-1-6f0438adc00e>\"\u001b[1;36m, line \u001b[1;32m2\u001b[0m\n\u001b[1;33m    for i in range Numberofweights:\u001b[0m\n\u001b[1;37m                                 ^\u001b[0m\n\u001b[1;31mSyntaxError\u001b[0m\u001b[1;31m:\u001b[0m invalid syntax\n"
     ]
    }
   ],
   "source": [
    "def WeightExport(Numberofweights,Numberofbiases,path,Transpose,typeV):\n",
    "    for i in range Numberofweights:\n",
    "        Weights=\"W\"+str(i)\n",
    "        Weight(i)=\n",
    "        str(valores_W+i)==np.loadtxt(path:i, delimiter=',', dtype=typeV)\n",
    "        np.savetxt('C:\\\\Users\\\\aleja\\\\Desktop\\\\DeepLearning\\\\Parameters\\\\SignDetection\\\\neuronas_W3.dat', neuronas[\"W3\"], delimiter=',')\n"
   ]
  },
  {
   "cell_type": "code",
   "execution_count": 19,
   "metadata": {},
   "outputs": [
    {
     "name": "stdout",
     "output_type": "stream",
     "text": [
      "W0 b0\n",
      "W1 b1\n",
      "W2 b2\n",
      "W3 b3\n",
      "W4 b4\n"
     ]
    }
   ],
   "source": [
    "for i in range(0, 5):\n",
    "    Weights=\"W\"+str(i)\n",
    "    Biases=\"b\"+str(i)\n",
    "    print (Weights,Biases) "
   ]
  },
  {
   "cell_type": "code",
   "execution_count": 11,
   "metadata": {},
   "outputs": [
    {
     "name": "stdout",
     "output_type": "stream",
     "text": [
      "Ford\n"
     ]
    }
   ],
   "source": [
    "cars = [\"Ford\", \"Volvo\", \"BMW\"]\n",
    "\n",
    "x = cars[0]\n",
    "\n",
    "print(x)\n"
   ]
  },
  {
   "cell_type": "code",
   "execution_count": 21,
   "metadata": {},
   "outputs": [
    {
     "name": "stdout",
     "output_type": "stream",
     "text": [
      "0\n",
      "1\n",
      "2\n",
      "3\n",
      "4\n"
     ]
    }
   ],
   "source": [
    "for i in range (0,5):\n",
    "        Weights={}\n",
    "        Weights[i]=i\n",
    "        print(Weights[i])"
   ]
  },
  {
   "cell_type": "code",
   "execution_count": 22,
   "metadata": {},
   "outputs": [
    {
     "name": "stdout",
     "output_type": "stream",
     "text": [
      "How many Weights?d\n"
     ]
    },
    {
     "ename": "ValueError",
     "evalue": "invalid literal for int() with base 10: 'd'",
     "output_type": "error",
     "traceback": [
      "\u001b[1;31m---------------------------------------------------------------------------\u001b[0m",
      "\u001b[1;31mValueError\u001b[0m                                Traceback (most recent call last)",
      "\u001b[1;32m<ipython-input-22-44982137a95d>\u001b[0m in \u001b[0;36m<module>\u001b[1;34m()\u001b[0m\n\u001b[1;32m----> 1\u001b[1;33m \u001b[0mhow_many\u001b[0m \u001b[1;33m=\u001b[0m \u001b[0mint\u001b[0m\u001b[1;33m(\u001b[0m\u001b[0minput\u001b[0m\u001b[1;33m(\u001b[0m\u001b[1;34m\"How many Weights?\"\u001b[0m\u001b[1;33m)\u001b[0m\u001b[1;33m)\u001b[0m\u001b[1;33m\u001b[0m\u001b[0m\n\u001b[0m\u001b[0;32m      2\u001b[0m \u001b[1;33m\u001b[0m\u001b[0m\n\u001b[0;32m      3\u001b[0m \u001b[0mterms\u001b[0m \u001b[1;33m=\u001b[0m \u001b[1;33m{\u001b[0m\u001b[1;33m}\u001b[0m\u001b[1;33m\u001b[0m\u001b[0m\n\u001b[0;32m      4\u001b[0m \u001b[0mWeightPath\u001b[0m \u001b[1;33m=\u001b[0m \u001b[0mstr\u001b[0m\u001b[1;33m(\u001b[0m\u001b[0minput\u001b[0m\u001b[1;33m(\u001b[0m\u001b[1;34m\"Enter the path of the Weigth\"\u001b[0m\u001b[1;33m)\u001b[0m\u001b[1;33m)\u001b[0m\u001b[1;33m\u001b[0m\u001b[0m\n\u001b[0;32m      5\u001b[0m \u001b[1;32mfor\u001b[0m \u001b[0mi\u001b[0m \u001b[1;32min\u001b[0m \u001b[0mrange\u001b[0m\u001b[1;33m(\u001b[0m\u001b[0mhow_many\u001b[0m\u001b[1;33m)\u001b[0m\u001b[1;33m:\u001b[0m\u001b[1;33m\u001b[0m\u001b[0m\n",
      "\u001b[1;31mValueError\u001b[0m: invalid literal for int() with base 10: 'd'"
     ]
    }
   ],
   "source": [
    "how_many = int(input(\"How many Weights?\"))\n",
    "\n",
    "terms = {}\n",
    "WeightPath = str(input(\"Enter the path of the Weigth\"))\n",
    "for i in range(how_many):\n",
    "    WeightPath2=\"parameters_W\"+str(1)+\".dat\"\n",
    "    terms[\"W{}\".format(i)] = WeightPath2 \n",
    "    print(terms)"
   ]
  },
  {
   "cell_type": "code",
   "execution_count": 14,
   "metadata": {},
   "outputs": [],
   "source": [
    "def WE(NumberofWeights,Path):\n",
    "\n",
    "    terms = {}\n",
    "    for i in range(NumberofWeights):\n",
    "        terms[\"W{}\".format(i)] = Path \n",
    "        print(terms)"
   ]
  },
  {
   "cell_type": "code",
   "execution_count": 15,
   "metadata": {},
   "outputs": [
    {
     "name": "stdout",
     "output_type": "stream",
     "text": [
      "{'W0': 4}\n",
      "{'W0': 4, 'W1': 4}\n",
      "{'W0': 4, 'W1': 4, 'W2': 4}\n"
     ]
    }
   ],
   "source": [
    "WE(3,4)"
   ]
  },
  {
   "cell_type": "code",
   "execution_count": 18,
   "metadata": {},
   "outputs": [
    {
     "name": "stdout",
     "output_type": "stream",
     "text": [
      "{'line_dict_1': {'a': 1}}\n",
      "{'line_dict_1': {'a': 1}, 'line_dict_2': {'a': 1}}\n",
      "{'line_dict_1': {'a': 1}, 'line_dict_2': {'a': 1}, 'line_dict_3': {'a': 1}}\n",
      "{'line_dict_1': {'a': 1}, 'line_dict_2': {'a': 1}, 'line_dict_3': {'a': 1}, 'line_dict_4': {'a': 1}}\n",
      "{'line_dict_1': {'a': 1}, 'line_dict_2': {'a': 1}, 'line_dict_3': {'a': 1}, 'line_dict_4': {'a': 1}, 'line_dict_5': {'a': 1}}\n"
     ]
    }
   ],
   "source": [
    "kv = {}\n",
    "for i in range(1, 6):\n",
    "    kv['line_dict_{}'.format(i)] = { 'a': 1 }\n",
    "    print(kv)"
   ]
  },
  {
   "cell_type": "code",
   "execution_count": 24,
   "metadata": {},
   "outputs": [
    {
     "name": "stdout",
     "output_type": "stream",
     "text": [
      "How many terms are in the equation?2\n",
      "Enter the coefficient for variable2\n",
      "{'T0': 2}\n",
      "Enter the coefficient for variable2\n",
      "{'T0': 2, 'T1': 2}\n"
     ]
    }
   ],
   "source": [
    "how_many = int(input(\"How many terms are in the equation?\"))\n",
    "\n",
    "terms = {}\n",
    "\n",
    "for i in range(how_many):\n",
    "    var = int(input(\"Enter the coefficient for variable\"))\n",
    "    terms[\"T{}\".format(i)] = var \n",
    "    print(terms)"
   ]
  },
  {
   "cell_type": "code",
   "execution_count": 25,
   "metadata": {},
   "outputs": [
    {
     "ename": "SyntaxError",
     "evalue": "invalid syntax (<ipython-input-25-7d70c003b917>, line 1)",
     "output_type": "error",
     "traceback": [
      "\u001b[1;36m  File \u001b[1;32m\"<ipython-input-25-7d70c003b917>\"\u001b[1;36m, line \u001b[1;32m1\u001b[0m\n\u001b[1;33m    \"W1\" : valores_W1,\u001b[0m\n\u001b[1;37m                     ^\u001b[0m\n\u001b[1;31mSyntaxError\u001b[0m\u001b[1;31m:\u001b[0m invalid syntax\n"
     ]
    }
   ],
   "source": [
    "    \"W1\" : valores_W1,\n",
    "    \"b1\" : np.array([valores_b1]).T,\n",
    "    \"W2\" : valores_W2,\n",
    "    \"b2\" : np.array([valores_b2]).T,\n",
    "    \"W3\" : valores_W3,\n",
    "    \"b3\" : np.array([valores_b3]).T\n",
    "}"
   ]
  },
  {
   "cell_type": "code",
   "execution_count": 26,
   "metadata": {},
   "outputs": [],
   "source": [
    "valores_W1 = np.loadtxt('C:\\\\Users\\\\aleja\\\\Desktop\\\\DeepLearning\\\\Parameters\\\\SignDetection\\\\parameters_W1.dat', delimiter=',', dtype='float32')\n",
    "valores_b1 = np.loadtxt('C:\\\\Users\\\\aleja\\\\Desktop\\\\DeepLearning\\\\Parameters\\\\SignDetection\\\\parameters_b1.dat', delimiter=',', dtype='float32')\n",
    "valores_W2 = np.loadtxt('C:\\\\Users\\\\aleja\\\\Desktop\\\\DeepLearning\\\\Parameters\\\\SignDetection\\\\parameters_W2.dat', delimiter=',', dtype='float32')\n",
    "valores_b2 = np.loadtxt('C:\\\\Users\\\\aleja\\\\Desktop\\\\DeepLearning\\\\Parameters\\\\SignDetection\\\\parameters_b2.dat', delimiter=',', dtype='float32')\n",
    "valores_W3 = np.loadtxt('C:\\\\Users\\\\aleja\\\\Desktop\\\\DeepLearning\\\\Parameters\\\\SignDetection\\\\parameters_W3.dat', delimiter=',', dtype='float32')\n",
    "valores_b3 = np.loadtxt('C:\\\\Users\\\\aleja\\\\Desktop\\\\DeepLearning\\\\Parameters\\\\SignDetection\\\\parameters_b3.dat', delimiter=',', dtype='float32')\n",
    "\n",
    "neuronas = {\n",
    "    \"W1\" : valores_W1,\n",
    "    \"b1\" : np.array([valores_b1]).T,\n",
    "    \"W2\" : valores_W2,\n",
    "    \"b2\" : np.array([valores_b2]).T,\n",
    "    \"W3\" : valores_W3,\n",
    "    \"b3\" : np.array([valores_b3]).T\n",
    "}\n"
   ]
  },
  {
   "cell_type": "code",
   "execution_count": 31,
   "metadata": {},
   "outputs": [],
   "source": [
    "def PrimerIntento(Numero):\n",
    "       for i in range(Numero): \n",
    "            np.savetxt('C:\\\\Users\\\\aleja\\\\Desktop\\\\DeepLearning\\\\Parameters\\\\SignDetection\\\\Pruebas\\\\parameters_W'+str(i)+'.dat', parameters[\"W\"+str(i)], delimiter=',')"
   ]
  },
  {
   "cell_type": "code",
   "execution_count": 32,
   "metadata": {},
   "outputs": [
    {
     "ename": "NameError",
     "evalue": "name 'parameters' is not defined",
     "output_type": "error",
     "traceback": [
      "\u001b[1;31m---------------------------------------------------------------------------\u001b[0m",
      "\u001b[1;31mNameError\u001b[0m                                 Traceback (most recent call last)",
      "\u001b[1;32m<ipython-input-32-114bac280f60>\u001b[0m in \u001b[0;36m<module>\u001b[1;34m()\u001b[0m\n\u001b[1;32m----> 1\u001b[1;33m \u001b[0mPrimerIntento\u001b[0m\u001b[1;33m(\u001b[0m\u001b[1;36m3\u001b[0m\u001b[1;33m)\u001b[0m\u001b[1;33m\u001b[0m\u001b[0m\n\u001b[0m",
      "\u001b[1;32m<ipython-input-31-a0df564f80a3>\u001b[0m in \u001b[0;36mPrimerIntento\u001b[1;34m(Numero)\u001b[0m\n\u001b[0;32m      1\u001b[0m \u001b[1;32mdef\u001b[0m \u001b[0mPrimerIntento\u001b[0m\u001b[1;33m(\u001b[0m\u001b[0mNumero\u001b[0m\u001b[1;33m)\u001b[0m\u001b[1;33m:\u001b[0m\u001b[1;33m\u001b[0m\u001b[0m\n\u001b[0;32m      2\u001b[0m        \u001b[1;32mfor\u001b[0m \u001b[0mi\u001b[0m \u001b[1;32min\u001b[0m \u001b[0mrange\u001b[0m\u001b[1;33m(\u001b[0m\u001b[0mNumero\u001b[0m\u001b[1;33m)\u001b[0m\u001b[1;33m:\u001b[0m\u001b[1;33m\u001b[0m\u001b[0m\n\u001b[1;32m----> 3\u001b[1;33m             \u001b[0mnp\u001b[0m\u001b[1;33m.\u001b[0m\u001b[0msavetxt\u001b[0m\u001b[1;33m(\u001b[0m\u001b[1;34m'C:\\\\Users\\\\aleja\\\\Desktop\\\\DeepLearning\\\\Parameters\\\\SignDetection\\\\Pruebas\\\\parameters_W'\u001b[0m\u001b[1;33m+\u001b[0m\u001b[0mstr\u001b[0m\u001b[1;33m(\u001b[0m\u001b[0mi\u001b[0m\u001b[1;33m)\u001b[0m\u001b[1;33m+\u001b[0m\u001b[1;34m'.dat'\u001b[0m\u001b[1;33m,\u001b[0m \u001b[0mparameters\u001b[0m\u001b[1;33m[\u001b[0m\u001b[1;34m\"W\"\u001b[0m\u001b[1;33m+\u001b[0m\u001b[0mstr\u001b[0m\u001b[1;33m(\u001b[0m\u001b[0mi\u001b[0m\u001b[1;33m)\u001b[0m\u001b[1;33m]\u001b[0m\u001b[1;33m,\u001b[0m \u001b[0mdelimiter\u001b[0m\u001b[1;33m=\u001b[0m\u001b[1;34m','\u001b[0m\u001b[1;33m)\u001b[0m\u001b[1;33m\u001b[0m\u001b[0m\n\u001b[0m",
      "\u001b[1;31mNameError\u001b[0m: name 'parameters' is not defined"
     ]
    }
   ],
   "source": [
    "PrimerIntento(3)"
   ]
  },
  {
   "cell_type": "code",
   "execution_count": null,
   "metadata": {},
   "outputs": [],
   "source": []
  }
 ],
 "metadata": {
  "kernelspec": {
   "display_name": "Python 3",
   "language": "python",
   "name": "python3"
  },
  "language_info": {
   "codemirror_mode": {
    "name": "ipython",
    "version": 3
   },
   "file_extension": ".py",
   "mimetype": "text/x-python",
   "name": "python",
   "nbconvert_exporter": "python",
   "pygments_lexer": "ipython3",
   "version": "3.6.5"
  }
 },
 "nbformat": 4,
 "nbformat_minor": 2
}
